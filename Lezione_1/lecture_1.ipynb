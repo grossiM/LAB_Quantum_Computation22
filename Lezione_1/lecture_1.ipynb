{
 "cells": [
  {
   "cell_type": "markdown",
   "id": "125bd72e",
   "metadata": {
    "slideshow": {
     "slide_type": "slide"
    }
   },
   "source": [
    "## Lecture 1"
   ]
  },
  {
   "cell_type": "markdown",
   "id": "12ddb242",
   "metadata": {
    "slideshow": {
     "slide_type": "slide"
    }
   },
   "source": [
    "# Quantum Cloud, Near-Time Compute, and Qiskit Runtime\n",
    "<br>\n",
    "<br>\n",
    "\n",
    "You can find a copy of this presentation at\n",
    "\n",
    "https://github.com/grossiM/LAB_Quantum_Computation22/tree/main\n",
    "\n",
    "michele.grossi@cern.ch"
   ]
  },
  {
   "cell_type": "markdown",
   "id": "9227166d",
   "metadata": {
    "slideshow": {
     "slide_type": "slide"
    }
   },
   "source": [
    "## Introduction to Qiskit\n",
    "\n",
    "Qiskit is a Python-based, open source software development toolkit (SDK) for working with quantum computers.  It can be used at the level of circuits, algorithms, and application modules."
   ]
  },
  {
   "cell_type": "markdown",
   "id": "a9eebce4",
   "metadata": {
    "slideshow": {
     "slide_type": "subslide"
    }
   },
   "source": [
    "### Installing Qiskit\n",
    "\n",
    "Anaconda or a pyenv is recommended to manage all dependencies.\n",
    "\n",
    "*Command:* `pip install qiskit`\n",
    "\n",
    "*Python version:* 3.6+\n"
   ]
  },
  {
   "cell_type": "markdown",
   "id": "53da3e86",
   "metadata": {
    "slideshow": {
     "slide_type": "slide"
    }
   },
   "source": [
    "### Typical Qiskit Workflow\n",
    "\n",
    "**Build**: Design a quantum circuit(s) that represents the problem you are considering.\n",
    "\n",
    "**Compile**: Compile circuits for a specific quantum backend, e.g., a quantum system or classical simulator.\n",
    "\n",
    "**Run**: Run the compiled circuits on the specified quantum backend.\n",
    "\n",
    "**Analyze**: Compute summary statistics and visualize the results of the experiments.\n"
   ]
  },
  {
   "cell_type": "markdown",
   "id": "e202f11a",
   "metadata": {
    "slideshow": {
     "slide_type": "subslide"
    }
   },
   "source": [
    "### Step 0 : check package version"
   ]
  },
  {
   "cell_type": "code",
   "execution_count": 1,
   "id": "d7430b7c",
   "metadata": {
    "slideshow": {
     "slide_type": "subslide"
    }
   },
   "outputs": [
    {
     "data": {
      "text/html": [
       "<h3>Version Information</h3><table><tr><th>Qiskit Software</th><th>Version</th></tr><tr><td><code>qiskit-terra</code></td><td>0.22.0</td></tr><tr><td><code>qiskit-aer</code></td><td>0.11.0</td></tr><tr><td><code>qiskit-ibmq-provider</code></td><td>0.19.2</td></tr><tr><td><code>qiskit</code></td><td>0.39.0</td></tr><tr><th>System information</th></tr><tr><td>Python version</td><td>3.9.13</td></tr><tr><td>Python compiler</td><td>Clang 13.0.1 </td></tr><tr><td>Python build</td><td>main, May 27 2022 17:01:00</td></tr><tr><td>OS</td><td>Darwin</td></tr><tr><td>CPUs</td><td>10</td></tr><tr><td>Memory (Gb)</td><td>32.0</td></tr><tr><td colspan='2'>Thu Nov 17 16:20:53 2022 CET</td></tr></table>"
      ],
      "text/plain": [
       "<IPython.core.display.HTML object>"
      ]
     },
     "metadata": {},
     "output_type": "display_data"
    },
    {
     "data": {
      "text/html": [
       "<div style='width: 100%; background-color:#d5d9e0;padding-left: 10px; padding-bottom: 10px; padding-right: 10px; padding-top: 5px'><h3>This code is a part of Qiskit</h3><p>&copy; Copyright IBM 2017, 2022.</p><p>This code is licensed under the Apache License, Version 2.0. You may<br>obtain a copy of this license in the LICENSE.txt file in the root directory<br> of this source tree or at http://www.apache.org/licenses/LICENSE-2.0.<p>Any modifications or derivative works of this code must retain this<br>copyright notice, and modified files need to carry a notice indicating<br>that they have been altered from the originals.</p></div>"
      ],
      "text/plain": [
       "<IPython.core.display.HTML object>"
      ]
     },
     "metadata": {},
     "output_type": "display_data"
    }
   ],
   "source": [
    "import qiskit.tools.jupyter\n",
    "%qiskit_version_table\n",
    "%qiskit_copyright"
   ]
  },
  {
   "cell_type": "markdown",
   "id": "0d8fd650",
   "metadata": {
    "slideshow": {
     "slide_type": "subslide"
    }
   },
   "source": [
    "#### Step 1: Build the Circuit"
   ]
  },
  {
   "cell_type": "code",
   "execution_count": 2,
   "id": "4056b4a5",
   "metadata": {
    "slideshow": {
     "slide_type": "fragment"
    }
   },
   "outputs": [
    {
     "data": {
      "image/png": "[encoded data removed]",
      "text/plain": [
       "<Figure size 454.517x284.278 with 1 Axes>"
      ]
     },
     "execution_count": 2,
     "metadata": {},
     "output_type": "execute_result"
    }
   ],
   "source": [
    "from qiskit import QuantumCircuit\n",
    "\n",
    "# Create a quantum circuit with 2 qubits and 2 classical bits\n",
    "circuit = QuantumCircuit(2, 2)\n",
    "\n",
    "# Add a Hadamard gate on qubit 0\n",
    "circuit.h(0)\n",
    "\n",
    "# Add a CX (CNOT) gate on control qubit 0 and target qubit 1\n",
    "circuit.cx(0, 1)\n",
    "\n",
    "# Measure qubits 0 and 1 onto classical bits 0 and 1\n",
    "circuit.measure([0, 1], [0, 1])\n",
    "\n",
    "# Draw the circuit\n",
    "circuit.draw('mpl')"
   ]
  },
  {
   "cell_type": "markdown",
   "id": "84732e65",
   "metadata": {
    "slideshow": {
     "slide_type": "subslide"
    }
   },
   "source": [
    "#### Step 1 bis: visualize the matrix generated by the circuit"
   ]
  },
  {
   "cell_type": "code",
   "execution_count": 3,
   "id": "8b8a0485",
   "metadata": {
    "slideshow": {
     "slide_type": "-"
    }
   },
   "outputs": [
    {
     "data": {
      "image/png": "[encoded data removed]",
      "text/plain": [
       "<Figure size 370.906x200.667 with 1 Axes>"
      ]
     },
     "metadata": {},
     "output_type": "display_data"
    },
    {
     "data": {
      "text/latex": [
       "$$\n",
       "\\text{Circuit = }\n",
       "\n",
       "\\begin{bmatrix}\n",
       "1 & 0 & 0 & 0  \\\\\n",
       " 0 & 1 & 0 & 0  \\\\\n",
       " 0 & 0 & 0 & 1  \\\\\n",
       " 0 & 0 & 1 & 0  \\\\\n",
       " \\end{bmatrix}\n",
       "$$"
      ],
      "text/plain": [
       "<IPython.core.display.Latex object>"
      ]
     },
     "execution_count": 3,
     "metadata": {},
     "output_type": "execute_result"
    }
   ],
   "source": [
    "from qiskit import assemble, Aer\n",
    "from qiskit.visualization import array_to_latex\n",
    "\n",
    "qc = QuantumCircuit(2)\n",
    "qc.h(0)\n",
    "qc.h(1)\n",
    "qc.cx(0,1)\n",
    "qc.h(0)\n",
    "qc.h(1)\n",
    "display(qc.draw('mpl')) \n",
    "\n",
    "qc.save_unitary()\n",
    "usim = Aer.get_backend('aer_simulator')\n",
    "qobj = assemble(qc)\n",
    "unitary = usim.run(qobj).result().get_unitary()\n",
    "array_to_latex(unitary, prefix=\"\\\\text{Circuit = }\\n\")"
   ]
  },
  {
   "cell_type": "markdown",
   "id": "df3b00e3",
   "metadata": {
    "slideshow": {
     "slide_type": "subslide"
    }
   },
   "source": [
    "#### Step 2: Compile the Circuit"
   ]
  },
  {
   "cell_type": "code",
   "execution_count": 4,
   "id": "ca410ba3",
   "metadata": {
    "slideshow": {
     "slide_type": "fragment"
    }
   },
   "outputs": [
    {
     "name": "stderr",
     "output_type": "stream",
     "text": [
      "/opt/homebrew/Caskroom/miniforge/base/envs/qiskit_trieste22/lib/python3.9/site-packages/numpy/linalg/linalg.py:2154: RuntimeWarning: divide by zero encountered in det\n",
      "  r = _umath_linalg.det(a, signature=signature)\n",
      "/opt/homebrew/Caskroom/miniforge/base/envs/qiskit_trieste22/lib/python3.9/site-packages/numpy/linalg/linalg.py:2154: RuntimeWarning: invalid value encountered in det\n",
      "  r = _umath_linalg.det(a, signature=signature)\n"
     ]
    }
   ],
   "source": [
    "from qiskit import transpile\n",
    "from qiskit.providers.aer import AerSimulator\n",
    "\n",
    "# Use a local simulator\n",
    "simulator = AerSimulator()\n",
    "\n",
    "# Compile the circuit down to low-level instructions supported by the backend\n",
    "compiled_circuit = transpile(circuit, simulator)\n"
   ]
  },
  {
   "cell_type": "markdown",
   "id": "0b71cf3c",
   "metadata": {
    "slideshow": {
     "slide_type": "subslide"
    }
   },
   "source": [
    "#### Step 3: Run the Circuit"
   ]
  },
  {
   "cell_type": "code",
   "execution_count": 5,
   "id": "98fdc24a",
   "metadata": {
    "slideshow": {
     "slide_type": "fragment"
    }
   },
   "outputs": [],
   "source": [
    "# Execute the circuit on the qasm simulator\n",
    "# shots defines the number of executions\n",
    "job = simulator.run(compiled_circuit, shots=1000)\n",
    "\n",
    "# Grab results from the job\n",
    "result = job.result()"
   ]
  },
  {
   "cell_type": "markdown",
   "id": "d4cd47f1",
   "metadata": {
    "slideshow": {
     "slide_type": "subslide"
    }
   },
   "source": [
    "#### Step 4: Analyze and Visualize the Result"
   ]
  },
  {
   "cell_type": "code",
   "execution_count": 6,
   "id": "a677e6ba",
   "metadata": {},
   "outputs": [
    {
     "data": {
      "image/png": "[encoded data removed]",
      "text/plain": [
       "<Figure size 700x500 with 1 Axes>"
      ]
     },
     "execution_count": 6,
     "metadata": {},
     "output_type": "execute_result"
    }
   ],
   "source": [
    "from qiskit.visualization import plot_histogram\n",
    "\n",
    "# Get summarized counts of qubit measurements\n",
    "counts = result.get_counts()\n",
    "\n",
    "# Plot a histogram\n",
    "# \"00\" means both qubits were measured 0; \"11\" means both were measured 1.\n",
    "plot_histogram(counts)"
   ]
  },
  {
   "cell_type": "markdown",
   "id": "f6e60d31",
   "metadata": {
    "slideshow": {
     "slide_type": "subslide"
    }
   },
   "source": [
    "### Extra: some additional functions"
   ]
  },
  {
   "cell_type": "code",
   "execution_count": 7,
   "id": "04e62eb5",
   "metadata": {
    "slideshow": {
     "slide_type": "fragment"
    }
   },
   "outputs": [
    {
     "data": {
      "image/png": "[encoded data removed]",
      "text/plain": [
       "<Figure size 956.183x200.667 with 1 Axes>"
      ]
     },
     "execution_count": 7,
     "metadata": {},
     "output_type": "execute_result"
    }
   ],
   "source": [
    "#Import the random circuit class\n",
    "from qiskit.circuit.random import random_circuit\n",
    "#Create two random circuits, each with 2 qubit registers and random #gate operator counts.\n",
    "qc1 = random_circuit(2,2)\n",
    "qc2 = random_circuit(2,4)\n",
    "#Concatenate the two random circuits\n",
    "qc = qc1.compose(qc2)\n",
    "#Draw the circuit\n",
    "qc.draw('mpl')"
   ]
  },
  {
   "cell_type": "code",
   "execution_count": null,
   "id": "f969e8d1",
   "metadata": {
    "slideshow": {
     "slide_type": "subslide"
    }
   },
   "outputs": [],
   "source": [
    "#Define function to print circuit properties:\n",
    "def print_circuit_props(qc):\n",
    "    width = qc.width()\n",
    "    depth = qc.depth()\n",
    "    num_operators = qc.count_ops()\n",
    "    circuit_size = qc.size()\n",
    "    print('Width = ',width) \n",
    "    print('Depth = ', depth)\n",
    "    print('Circuit size = ',circuit_size)\n",
    "    print('Number of operators = ', num_operators)"
   ]
  },
  {
   "cell_type": "code",
   "execution_count": null,
   "id": "25fcc2ff",
   "metadata": {
    "slideshow": {
     "slide_type": "fragment"
    }
   },
   "outputs": [],
   "source": [
    "#Pass our quantum circuit to print out the circuit properties\n",
    "print_circuit_props(qc)"
   ]
  },
  {
   "cell_type": "code",
   "execution_count": null,
   "id": "4037b5d3",
   "metadata": {
    "slideshow": {
     "slide_type": "subslide"
    }
   },
   "outputs": [],
   "source": [
    "qc = QuantumCircuit(3)\n",
    "qc.ccx(0,1,2)\n",
    "#Print out the circuit properties\n",
    "print_circuit_props(qc)\n",
    "qc.draw('mpl')"
   ]
  },
  {
   "cell_type": "code",
   "execution_count": null,
   "id": "7a8fa218",
   "metadata": {
    "slideshow": {
     "slide_type": "subslide"
    }
   },
   "outputs": [],
   "source": [
    "qc.decompose().draw('mpl')"
   ]
  },
  {
   "cell_type": "code",
   "execution_count": null,
   "id": "5106914c",
   "metadata": {
    "slideshow": {
     "slide_type": "fragment"
    }
   },
   "outputs": [],
   "source": [
    "#Print out the circuit properties\n",
    "print_circuit_props(qc.decompose())"
   ]
  },
  {
   "cell_type": "code",
   "execution_count": null,
   "id": "438ef08b",
   "metadata": {
    "slideshow": {
     "slide_type": "subslide"
    }
   },
   "outputs": [],
   "source": [
    "from qiskit import QuantumRegister\n",
    "#Create a custom two-qubit composite gate\n",
    "#Create the quantum register\n",
    "qr = QuantumRegister(2, name='qr_c')\n",
    "#Generate quantum circuit which will make up the composite gate\n",
    "comp_qc = QuantumCircuit(qr, name='my-composite')\n",
    "#Add any gates you wish to your composite gate\n",
    "comp_qc.h(0)\n",
    "comp_qc.cx(0, 1)\n",
    "#Create the composite instructions by converting \n",
    "#the QuantumCircuit to a list of Instructions\n",
    "composite_inst = comp_qc.to_instruction()\n",
    "#Draw the circuit which will represent the composite gate\n",
    "comp_qc.draw('mpl')"
   ]
  },
  {
   "cell_type": "code",
   "execution_count": null,
   "id": "60f9cc31",
   "metadata": {
    "slideshow": {
     "slide_type": "subslide"
    }
   },
   "outputs": [],
   "source": [
    "#Create another 3-qubit circuit \n",
    "qr2 = QuantumRegister(3, 'qr')\n",
    "#Create a quantum circuit using the quantum register\n",
    "qc = QuantumCircuit(qr2)\n",
    "#Add any arbitrary gates that would represent the function \n",
    "#of the composite gate \n",
    "qc.h(0)\n",
    "qc.cx(0,1)\n",
    "qc.cx(0,2)\n",
    "#Draw the composite circuit\n",
    "qc.draw('mpl')"
   ]
  },
  {
   "cell_type": "code",
   "execution_count": null,
   "id": "342d2867",
   "metadata": {},
   "outputs": [],
   "source": [
    "#Append your composite gate to the specified qubits. \n",
    "qc.append(composite_inst, [qr2[0], qr2[1]])\n",
    "#Draw the complete circuit\n",
    "qc.draw('mpl')"
   ]
  },
  {
   "cell_type": "markdown",
   "id": "efbf10b1",
   "metadata": {
    "slideshow": {
     "slide_type": "subslide"
    }
   },
   "source": [
    "## Parameterized circuits"
   ]
  },
  {
   "cell_type": "code",
   "execution_count": null,
   "id": "e8da1358",
   "metadata": {
    "slideshow": {
     "slide_type": "fragment"
    }
   },
   "outputs": [],
   "source": [
    "from qiskit.circuit import Parameter\n",
    "\n",
    "theta = Parameter('θ')\n",
    "\n",
    "n = 5\n",
    "\n",
    "qc = QuantumCircuit(5, 1)\n",
    "\n",
    "qc.h(0)\n",
    "for i in range(n-1):\n",
    "    qc.cx(i, i+1)\n",
    "\n",
    "qc.barrier()\n",
    "qc.rz(theta, range(5))\n",
    "qc.barrier()\n",
    "\n",
    "for i in reversed(range(n-1)):\n",
    "    qc.cx(i, i+1)\n",
    "qc.h(0)\n",
    "qc.measure(0, 0)\n"
   ]
  },
  {
   "cell_type": "code",
   "execution_count": null,
   "id": "2b5bd6db",
   "metadata": {
    "slideshow": {
     "slide_type": "subslide"
    }
   },
   "outputs": [],
   "source": [
    "qc.draw('mpl')"
   ]
  },
  {
   "cell_type": "markdown",
   "id": "45a5af3c",
   "metadata": {
    "slideshow": {
     "slide_type": "subslide"
    }
   },
   "source": [
    "### Binding parameters to values\n",
    "All circuit parameters must be bound before sending the circuit to a backend. This can be done as follows:\n",
    "- The `bind_parameters` method accepts a dictionary mapping `Parameter`s to values, and returns a new circuit with each parameter replaced by its corresponding value. Partial binding is supported, in which case the returned circuit will be parameterized by any `Parameter`s that were not mapped to a value."
   ]
  },
  {
   "cell_type": "code",
   "execution_count": null,
   "id": "9515875d",
   "metadata": {
    "slideshow": {
     "slide_type": "fragment"
    }
   },
   "outputs": [],
   "source": [
    "import numpy as np\n",
    "\n",
    "theta_range = np.linspace(0, 2 * np.pi, 128)\n",
    "\n",
    "circuits = [qc.bind_parameters({theta: theta_val})\n",
    "            for theta_val in theta_range]"
   ]
  },
  {
   "cell_type": "code",
   "execution_count": null,
   "id": "ab224705",
   "metadata": {
    "slideshow": {
     "slide_type": "subslide"
    }
   },
   "outputs": [],
   "source": [
    "circuits[-1].draw('mpl')"
   ]
  },
  {
   "cell_type": "code",
   "execution_count": null,
   "id": "45e1e502",
   "metadata": {
    "slideshow": {
     "slide_type": "subslide"
    }
   },
   "outputs": [],
   "source": [
    "from qiskit import BasicAer, transpile\n",
    "backend = BasicAer.get_backend('qasm_simulator')\n",
    "job = backend.run(transpile(circuits, backend))\n",
    "counts = job.result().get_counts()"
   ]
  },
  {
   "cell_type": "markdown",
   "id": "ce7c3ede",
   "metadata": {
    "slideshow": {
     "slide_type": "fragment"
    }
   },
   "source": [
    "In the example circuit, we apply a global $R_z(\\theta)$ rotation on a five-qubit entangled state, and so expect to see oscillation in qubit-0 at $5\\theta$."
   ]
  },
  {
   "cell_type": "code",
   "execution_count": null,
   "id": "e300292b",
   "metadata": {
    "slideshow": {
     "slide_type": "subslide"
    }
   },
   "outputs": [],
   "source": [
    "import matplotlib.pyplot as plt\n",
    "fig = plt.figure(figsize=(8,6))\n",
    "ax = fig.add_subplot(111)\n",
    "\n",
    "ax.plot(theta_range, list(map(lambda c: c.get('0', 0), counts)), '.-', label='0')\n",
    "ax.plot(theta_range, list(map(lambda c: c.get('1', 0), counts)), '.-', label='1') \n",
    "\n",
    "ax.set_xticks([i * np.pi / 2 for i in range(5)])\n",
    "ax.set_xticklabels(['0', r'$\\frac{\\pi}{2}$', r'$\\pi$', r'$\\frac{3\\pi}{2}$', r'$2\\pi$'], fontsize=14)\n",
    "ax.set_xlabel('θ', fontsize=14)\n",
    "ax.set_ylabel('Counts', fontsize=14)\n",
    "ax.legend(fontsize=14)"
   ]
  },
  {
   "cell_type": "markdown",
   "id": "56de0a8c",
   "metadata": {
    "slideshow": {
     "slide_type": "subslide"
    }
   },
   "source": [
    "NB To insert a subcircuit under a different parameterization, the `to_instruction` method accepts an optional argument (`parameter_map`) which, when present, will generate instructions with the source parameter replaced by a new parameter."
   ]
  },
  {
   "cell_type": "code",
   "execution_count": null,
   "id": "251bc580",
   "metadata": {
    "slideshow": {
     "slide_type": "fragment"
    }
   },
   "outputs": [],
   "source": [
    "p = Parameter('p')\n",
    "qc = QuantumCircuit(3, name='oracle')\n",
    "qc.rz(p, 0)\n",
    "qc.cx(0, 1)\n",
    "qc.rz(p, 1)\n",
    "qc.cx(1, 2)\n",
    "qc.rz(p, 2)\n",
    "\n",
    "theta = Parameter('theta')\n",
    "phi = Parameter('phi')\n",
    "gamma = Parameter('gamma')\n",
    "\n",
    "qr = QuantumRegister(9)\n",
    "larger_qc = QuantumCircuit(qr)\n",
    "larger_qc.append(qc.to_instruction({p: theta}), qr[0:3])\n",
    "larger_qc.append(qc.to_instruction({p: phi}), qr[3:6])\n",
    "larger_qc.append(qc.to_instruction({p: gamma}), qr[6:9])"
   ]
  },
  {
   "cell_type": "code",
   "execution_count": null,
   "id": "42810ac5",
   "metadata": {
    "slideshow": {
     "slide_type": "subslide"
    }
   },
   "outputs": [],
   "source": [
    "print(larger_qc.draw())"
   ]
  },
  {
   "cell_type": "code",
   "execution_count": null,
   "id": "a4612e63",
   "metadata": {},
   "outputs": [],
   "source": [
    "print(larger_qc.decompose().draw())"
   ]
  },
  {
   "cell_type": "markdown",
   "id": "1c75447a",
   "metadata": {
    "slideshow": {
     "slide_type": "subslide"
    }
   },
   "source": [
    "### Extra about visualization"
   ]
  },
  {
   "cell_type": "code",
   "execution_count": null,
   "id": "29493c9d",
   "metadata": {
    "slideshow": {
     "slide_type": "fragment"
    }
   },
   "outputs": [],
   "source": [
    "# Will execute the circuit on the state vector (sv) simulator\n",
    "# Returns state vector results, circuit diagram, and Bloch sphere \n",
    "from qiskit import Aer, execute\n",
    "from qiskit.tools.jupyter import *\n",
    "from qiskit.visualization import *\n",
    "def execute_circuit_sv(quantum_circuit):\n",
    "    #Create a state vector simulator\n",
    "    statevector_simulator = Aer.get_backend('statevector_simulator')\n",
    "    #Execute the circuit on the simulator\n",
    "    result = execute(quantum_circuit, statevector_simulator).result()\n",
    "    #Assign state vector results\n",
    "    statevector_results  = result.get_statevector(quantum_circuit)\n",
    "    #Draw the circuit diagram\n",
    "    circuit_diagram = quantum_circuit.draw('mpl')\n",
    "    #Draw the Bloch sphere result\n",
    "    q_sphere = plot_state_qsphere(statevector_results)\n",
    "    #Return the results, circuit diagram, and Bloch sphere\n",
    "    return statevector_results, circuit_diagram, q_sphere"
   ]
  },
  {
   "cell_type": "code",
   "execution_count": null,
   "id": "9e798d85",
   "metadata": {
    "slideshow": {
     "slide_type": "fragment"
    }
   },
   "outputs": [],
   "source": [
    "#H-gate \n",
    "#Create the single qubit circuit\n",
    "qc = QuantumCircuit(1)\n",
    "#Add an H gate to the qubit\n",
    "qc.h(0)\n",
    "#Execute the circuit and capture all the results\n",
    "result, img, qsphere  = execute_circuit_sv(qc)"
   ]
  },
  {
   "cell_type": "code",
   "execution_count": null,
   "id": "8a111757",
   "metadata": {
    "slideshow": {
     "slide_type": "subslide"
    }
   },
   "outputs": [],
   "source": [
    "qsphere"
   ]
  },
  {
   "cell_type": "code",
   "execution_count": null,
   "id": "87365743",
   "metadata": {
    "slideshow": {
     "slide_type": "subslide"
    }
   },
   "outputs": [],
   "source": [
    "#U3-gate\n",
    "from math import pi\n",
    "#Create a single qubit circuit\n",
    "qc = QuantumCircuit(1)\n",
    "#Add a U3 gate and rotate all parameters by pi/2, and apply it to the qubit\n",
    "qc.u(pi/2, pi/2, pi/2, 0)\n",
    "#Execute the circuit and capture all the results\n",
    "result, img, qsphere = execute_circuit_sv(qc)"
   ]
  },
  {
   "cell_type": "code",
   "execution_count": null,
   "id": "3355da92",
   "metadata": {
    "slideshow": {
     "slide_type": "subslide"
    }
   },
   "outputs": [],
   "source": [
    "qsphere"
   ]
  },
  {
   "cell_type": "markdown",
   "id": "8367eea9",
   "metadata": {
    "slideshow": {
     "slide_type": "slide"
    }
   },
   "source": [
    "## Introduction to IBM Quantum\n",
    "\n",
    "Offers access to cloud-based quantum computing services\n",
    "\n",
    "- quantum processors\n",
    "- simulators\n",
    "- experiments\n",
    "- tutorials\n",
    "- **runtime**"
   ]
  },
  {
   "cell_type": "markdown",
   "id": "21f20abb",
   "metadata": {
    "slideshow": {
     "slide_type": "subslide"
    }
   },
   "source": [
    "### Using Qiskit to access IBM Quantum services\n",
    "\n",
    "Qiskit is designed to work with different providers. A _provider_ is any entity that provides quantum-related services that can be accessed using Qiskit. The most common service is quantum processors. `AQT`, `Honeywell`, and `IBM` are example of companies that provide access to their quantum processors through Qiskit.\n",
    "\n",
    "Since `Runtime` is currently an IBM-only service, this tutorial will focus on using IBM Quantum services."
   ]
  },
  {
   "cell_type": "markdown",
   "id": "04f99328",
   "metadata": {
    "slideshow": {
     "slide_type": "fragment"
    }
   },
   "source": [
    "Before you can access IBM Quantum services, you need an IBM Quantum account. You can sign up for an account at https://quantum-computing.ibm.com/."
   ]
  },
  {
   "cell_type": "markdown",
   "id": "0d3b73fa",
   "metadata": {
    "slideshow": {
     "slide_type": "subslide"
    }
   },
   "source": [
    "Once you have an account, you can grab your API token\n",
    "\n",
    "<img src=\"images/token.png\">"
   ]
  },
  {
   "cell_type": "markdown",
   "id": "64970e23",
   "metadata": {
    "slideshow": {
     "slide_type": "subslide"
    }
   },
   "source": [
    "#### Initializing Your Account in Qiskit"
   ]
  },
  {
   "cell_type": "code",
   "execution_count": null,
   "id": "7aeb03a5",
   "metadata": {
    "slideshow": {
     "slide_type": "fragment"
    }
   },
   "outputs": [],
   "source": [
    "# Import the module needed to access IBM Quantum\n",
    "from qiskit import IBMQ\n",
    "\n",
    "# Load your IBM Quantum account or enable the account if it's not previously saved.\n",
    "provider   = IBMQ.load_account()\n",
    "#provider = IBMQ.enable_account('APIKEY')"
   ]
  },
  {
   "cell_type": "markdown",
   "id": "1da515cd",
   "metadata": {
    "slideshow": {
     "slide_type": "subslide"
    }
   },
   "source": [
    "IBM Quantum provider uses the syntax:\n",
    "\n",
    "```\n",
    "provider.SERVICE.METHOD()\n",
    "```\n",
    "\n",
    "where SERVICE might be one of {backend, runtime, primitive}\n",
    "\n",
    "- Use `provider.backend` to target a quantum processor or simulator for running circuits\n",
    "- Use `provider.runtime` to target a higher level runtime program and to define a job as a collection of iterative calls to the quantum computer. When you start a session, it caches the data you send so it doesn’t have to be transmitted to the Quantum Datacenter on each iteration.\n",
    "\n",
    "For more details please have a look [here](https://research.ibm.com/blog/qiskit-runtime-for-useful-quantum-computing) and [tutorial](https://qiskit.org/documentation/partners/qiskit_ibm_runtime/tutorials.html)"
   ]
  },
  {
   "cell_type": "markdown",
   "id": "04f5c471",
   "metadata": {
    "slideshow": {
     "slide_type": "subslide"
    }
   },
   "source": [
    "#### Running a Circuit on IBM Quantum Backend and Transpiling"
   ]
  },
  {
   "cell_type": "code",
   "execution_count": null,
   "id": "5bf67c9c",
   "metadata": {},
   "outputs": [],
   "source": [
    "provider.backends()"
   ]
  },
  {
   "cell_type": "code",
   "execution_count": null,
   "id": "72b8d289",
   "metadata": {},
   "outputs": [],
   "source": [
    "from qiskit import QuantumCircuit\n",
    "from qiskit.compiler import transpile\n",
    "from qiskit.transpiler import PassManager"
   ]
  },
  {
   "cell_type": "code",
   "execution_count": null,
   "id": "505787c0",
   "metadata": {},
   "outputs": [],
   "source": [
    "from qiskit.transpiler import CouplingMap, Layout\n",
    "from qiskit.transpiler.passes import BasicSwap, LookaheadSwap, StochasticSwap\n",
    "\n",
    "coupling = [[0, 1], [1, 2], [2, 3], [3, 4], [4, 5], [5, 6]]\n",
    "\n",
    "circuit = QuantumCircuit(7)\n",
    "circuit.h(3)\n",
    "circuit.cx(0, 6)\n",
    "circuit.cx(6, 0)\n",
    "circuit.cx(0, 1)\n",
    "circuit.cx(3, 1)\n",
    "circuit.cx(3, 0)\n",
    "\n",
    "coupling_map = CouplingMap(couplinglist=coupling)\n",
    "\n",
    "bs = BasicSwap(coupling_map=coupling_map)\n",
    "pass_manager = PassManager(bs)\n",
    "basic_circ = pass_manager.run(circuit)\n",
    "\n",
    "ls = LookaheadSwap(coupling_map=coupling_map)\n",
    "pass_manager = PassManager(ls)\n",
    "lookahead_circ = pass_manager.run(circuit)\n",
    "\n",
    "ss = StochasticSwap(coupling_map=coupling_map)\n",
    "pass_manager = PassManager(ss)\n",
    "stochastic_circ = pass_manager.run(circuit)"
   ]
  },
  {
   "cell_type": "code",
   "execution_count": null,
   "id": "1c91c45c",
   "metadata": {},
   "outputs": [],
   "source": [
    "circuit.draw(output='mpl')"
   ]
  },
  {
   "cell_type": "code",
   "execution_count": null,
   "id": "c51b98e3",
   "metadata": {},
   "outputs": [],
   "source": [
    "lookahead_circ.draw(output='mpl')"
   ]
  },
  {
   "cell_type": "code",
   "execution_count": null,
   "id": "d66fd39e",
   "metadata": {},
   "outputs": [],
   "source": [
    "import math\n",
    "qiskit.providers.fake_provider\n",
    "\n",
    "backend = FakeTokyo()  "
   ]
  },
  {
   "cell_type": "code",
   "execution_count": null,
   "id": "87712bdb",
   "metadata": {},
   "outputs": [],
   "source": [
    "optimized_0 = transpile(circuit, backend=backend, seed_transpiler=11, optimization_level=0)"
   ]
  },
  {
   "cell_type": "code",
   "execution_count": null,
   "id": "7a1479b4",
   "metadata": {},
   "outputs": [],
   "source": [
    "optimized_0.draw('mpl')"
   ]
  },
  {
   "cell_type": "code",
   "execution_count": null,
   "id": "5c04c7db",
   "metadata": {},
   "outputs": [],
   "source": [
    "qc = random_circuit(3,2)\n",
    "qc.measure_all()"
   ]
  },
  {
   "cell_type": "code",
   "execution_count": null,
   "id": "5e61873c",
   "metadata": {
    "slideshow": {
     "slide_type": "fragment"
    }
   },
   "outputs": [],
   "source": [
    "# Select a backend to run the circuit\n",
    "backend = provider.backend.ibmq_qasm_simulator\n",
    "\n",
    "result = backend.run(transpile(qc, backend), shots=1000).result()\n",
    "counts  = result.get_counts(qc)\n",
    "print(counts)"
   ]
  },
  {
   "cell_type": "code",
   "execution_count": null,
   "id": "39ad0352",
   "metadata": {
    "slideshow": {
     "slide_type": "fragment"
    }
   },
   "outputs": [],
   "source": [
    "# Plot the result\n",
    "plot_histogram(counts, color='green', title=\"New Histogram\")"
   ]
  },
  {
   "cell_type": "markdown",
   "id": "e83329da",
   "metadata": {
    "slideshow": {
     "slide_type": "slide"
    }
   },
   "source": [
    "### Hands-on part"
   ]
  },
  {
   "cell_type": "markdown",
   "id": "59e8ce32",
   "metadata": {
    "slideshow": {
     "slide_type": "subslide"
    }
   },
   "source": [
    "#### Try yourself\n",
    "\n",
    "The goal is to reach the state $|-\\rangle = \\frac{1}{\\sqrt{2}}\\left(|0\\rangle - |1\\rangle\\right)$. \n",
    "\n",
    "<div><img src=\"images/minus.png\" width=\"200\"></div>"
   ]
  },
  {
   "cell_type": "code",
   "execution_count": null,
   "id": "4b62cf03",
   "metadata": {
    "slideshow": {
     "slide_type": "fragment"
    }
   },
   "outputs": [],
   "source": [
    "## Insert your code here\n",
    "from qiskit.quantum_info import Statevector\n",
    "from qiskit.visualization import plot_bloch_multivector, plot_histogram\n",
    "\n"
   ]
  },
  {
   "cell_type": "markdown",
   "id": "cf1786a5",
   "metadata": {
    "slideshow": {
     "slide_type": "subslide"
    }
   },
   "source": [
    "### Solution"
   ]
  },
  {
   "cell_type": "code",
   "execution_count": 2,
   "id": "befaba51",
   "metadata": {
    "slideshow": {
     "slide_type": "fragment"
    }
   },
   "outputs": [],
   "source": [
    "#INSERT CODE HERE"
   ]
  },
  {
   "cell_type": "markdown",
   "id": "97aaf524",
   "metadata": {
    "slideshow": {
     "slide_type": "subslide"
    }
   },
   "source": [
    "## Some exercises on Bell states"
   ]
  },
  {
   "cell_type": "markdown",
   "id": "3b3ac012",
   "metadata": {},
   "source": [
    "Construct the Bell state $|\\Psi^+\\rangle = \\frac{1}{\\sqrt{2}}\\left(|01\\rangle + |10\\rangle\\right)$."
   ]
  },
  {
   "cell_type": "code",
   "execution_count": null,
   "id": "e2a633c7",
   "metadata": {
    "slideshow": {
     "slide_type": "fragment"
    }
   },
   "outputs": [],
   "source": [
    "## CHECK THE RESULT\n",
    "from qiskit.visualization import plot_bloch_multivector, plot_histogram, array_to_latex\n",
    "display(array_to_latex(Statevector.from_instruction(qc), prefix=\"\\\\text{Statevector} = \"))"
   ]
  },
  {
   "cell_type": "markdown",
   "id": "04319ba2",
   "metadata": {
    "slideshow": {
     "slide_type": "subslide"
    }
   },
   "source": [
    "### Solution"
   ]
  },
  {
   "cell_type": "code",
   "execution_count": 4,
   "id": "0e8056f2",
   "metadata": {
    "slideshow": {
     "slide_type": "fragment"
    }
   },
   "outputs": [],
   "source": [
    "qc = QuantumCircuit(2,2) # this time, we not only want two qubits, but also two classical bits for the measurement\n",
    "#INSERT CODE HERE"
   ]
  },
  {
   "cell_type": "markdown",
   "id": "47c9d05b",
   "metadata": {
    "slideshow": {
     "slide_type": "subslide"
    }
   },
   "source": [
    "Construct the other Bell states:\n",
    "\n",
    "- $|\\Psi^-\\rangle = \\frac{1}{\\sqrt{2}}\\left(|01\\rangle - |10\\rangle\\right)$ \n",
    "- $|\\Phi^+\\rangle = \\frac{1}{\\sqrt{2}}\\left(|00\\rangle + |11\\rangle\\right)$\n",
    "- $|\\Phi^+\\rangle = \\frac{1}{\\sqrt{2}}\\left(|00\\rangle - |11\\rangle\\right)$ "
   ]
  },
  {
   "cell_type": "markdown",
   "id": "279e6bff",
   "metadata": {
    "slideshow": {
     "slide_type": "subslide"
    }
   },
   "source": [
    "Write a function that builds a quantum circuit on 3 qubits and creates the GHZ-like state, $|\\Psi\\rangle = \\frac{1}{\\sqrt{2}} \\left(|010\\rangle - |101 \\rangle \\right)$.\n",
    "\n",
    "Hint: start from the circuit that constructs the GHZ state, $|GHZ\\rangle = \\frac{1}{\\sqrt{2}} \\left(|000\\rangle + |111 \\rangle \\right)$:"
   ]
  },
  {
   "cell_type": "code",
   "execution_count": null,
   "id": "cc309158",
   "metadata": {
    "slideshow": {
     "slide_type": "fragment"
    }
   },
   "outputs": [],
   "source": [
    "## WRITE YOUR CODE HERE:\n",
    "#\n",
    "#\n",
    "#\n",
    "#\n",
    "\n",
    "\n",
    "backend = Aer.get_backend('qasm_simulator') # we choose the simulator as our backend\n",
    "counts = execute(qc, backend, shots = 1000).result().get_counts() # we run the simulation and get the counts\n",
    "counts"
   ]
  },
  {
   "cell_type": "markdown",
   "id": "4b63059b",
   "metadata": {},
   "source": [
    "## Exercise"
   ]
  },
  {
   "cell_type": "markdown",
   "id": "a2191a26",
   "metadata": {
    "slideshow": {
     "slide_type": "slide"
    }
   },
   "source": [
    "Consider the following quantum circuit\n",
    "<img src=\"images/inverse.png\" width=\"500\" height=\"340\">\n",
    "\n",
    "- Calculate the matrix of the unitary operation U corresponding to C, with respect to the computational basis.\n",
    "- Write down a quantum circuit corresponding to the inverse operation $U^{-1}$\n",
    "- If C is applied to the initial state $|0⟩|0⟩$ and is followed by a measurement of each qubit in the computational basis, what is the distribution on measurement outcomes?"
   ]
  },
  {
   "cell_type": "markdown",
   "id": "a69d190a",
   "metadata": {
    "slideshow": {
     "slide_type": "subslide"
    }
   },
   "source": [
    "### Solution"
   ]
  },
  {
   "cell_type": "code",
   "execution_count": null,
   "id": "6e412ce8",
   "metadata": {},
   "outputs": [],
   "source": [
    "## WRITE YOUR CODE/calculation HERE:\n",
    "#\n",
    "#\n",
    "#\n",
    "#"
   ]
  },
  {
   "cell_type": "code",
   "execution_count": null,
   "id": "59c4c007",
   "metadata": {
    "slideshow": {
     "slide_type": "fragment"
    }
   },
   "outputs": [],
   "source": [
    "# inverse circuit\n",
    "\n",
    "\n",
    "#BONUS VISUALIZATION\n",
    "gate_colours = {\n",
    "    \"displaycolor\": {\n",
    "        \"x\": [ # gate name\n",
    "            \"#da1e28\", # box color (red)\n",
    "            \"#FFFFFF\" # box text color (white)\n",
    "        ],\n",
    "        \"h\": [ # gate name\n",
    "            \"#da1e28\", # box color (red)\n",
    "            \"#FFFFFF\" # box text color (white)\n",
    "        ],\n",
    "        \"cx\": [ # gate name\n",
    "            \"#da1e28\", # box color (red)\n",
    "            \"#FFFFFF\" # box text color (white)\n",
    "        ],\n",
    "        \"ry\": [ # gate name\n",
    "            \"#da1e28\", # box color (red)\n",
    "            \"#FFFFFF\" # box text color (white)\n",
    "        ],\n",
    "    },\n",
    "}\n",
    "\n",
    "display(qci.draw('mpl',style=gate_colours)) \n",
    "\n"
   ]
  },
  {
   "cell_type": "markdown",
   "id": "1e0c3ade",
   "metadata": {
    "slideshow": {
     "slide_type": "slide"
    }
   },
   "source": [
    "## Overview of Quantum States\n",
    "\n",
    "State-vector notation  is convenient when dealing with states that can always be expressed as a linear combination of basis states, each with an associated probability amplitude. The definition of the state of our qubits cannot always be written down as linear combinations in a given basis, sometimes it must be expressed in terms of ensembles (statistical mixtures) of multiple states (noise), each with an associated probability of occurrence. The adopted formulation is the `density matrix`. \n",
    "In the following we will review this formulation for ***pure state***, **mixed state** and we introduce the concept of **state purity** and ***partial trace***."
   ]
  },
  {
   "cell_type": "markdown",
   "id": "492a6355",
   "metadata": {
    "slideshow": {
     "slide_type": "slide"
    }
   },
   "source": [
    "#### Pure State\n",
    "Pure states are those for which we can precisely define their quantum state at every point in time and the measurement outcome will be probabilistic with no uncertainty on what this quantum state will be.\n",
    "For example, if we initialize the single qubit $|q \\rangle $ in state $ | 0 \\rangle $, and apply a Hadamard gate, we know our final state will be:\n",
    "\n",
    "$$ \n",
    "| q \\rangle = \\frac{1}{\\sqrt{2}} \\left( | 0 \\rangle  + | 1 \\rangle  \\right) = \\frac{1}{\\sqrt{2}} \\begin{bmatrix} 1 \\\\ 1 \\end{bmatrix} = | + \\rangle \n",
    "$$\n",
    "In general, we know that in the conventional state vector notation, an $n$-qubit pure state can be expressed as:\n",
    "\n",
    "$$ | \\psi \\rangle = \\begin{bmatrix} \\alpha_0 \\\\ \\alpha_1 \\\\ \\vdots \\\\ \\alpha_{N-1} \\end{bmatrix}, $$\n",
    "\n",
    "where $ N = 2^{n} $. An alternative way to express this pure quantum state is in the form of a matrix. This can be done by using the density operator representation, which is defined as:\n",
    "\n",
    "$$ \\rho \\equiv  | \\psi \\rangle \\langle \\psi | $$\n",
    "\n",
    "Here, the term $| \\psi \\rangle \\langle \\psi | $ represents the [outer product](../ch-gates/proving-universality.ipynb#outer) of the state $ \\psi $ with itself:\n",
    "\n",
    "\n",
    "$$ \n",
    "\\begin{aligned}\n",
    "& \\rho = \\begin{bmatrix} \\alpha_0 \\\\ \\alpha_1 \\\\ \\vdots \\\\ \\alpha_N \\end{bmatrix} \\begin{bmatrix} \\alpha_0^* & \\alpha_1^* & \\dots & \\alpha_N^* \\end{bmatrix} \n",
    "\\\\\n",
    "\\\\\n",
    "& \\rho = \\begin{bmatrix} |\\alpha_0|^2 & \\alpha_0 \\alpha_1^* & \\dots & \\alpha_0 \\alpha_N^* \\\\ \\alpha_1 \\alpha_0^* & |\\alpha_1|^2 & \\dots & \\alpha_1 \\alpha_N^* \\\\ \\vdots & \\vdots & \\ddots & \\vdots \\\\ \\alpha_N \\alpha_0^* & \\alpha_N \\alpha_1^* & \\dots & |\\alpha_N|^2 \\end{bmatrix}\n",
    "\\end{aligned}\n",
    "$$\n",
    "\n",
    "\n",
    "Let's consider, for example, the following two-qubit, maximally-entangled pure state:\n",
    "\n",
    "$$ | \\psi_{AB} \\rangle = \\frac{1}{\\sqrt{2}} \\left ( | 0 0 \\rangle + | 1 1 \\rangle \\right ) = \\frac{1}{\\sqrt{2}} \\begin{bmatrix} 1 \\\\ 0 \\\\ 0 \\\\ 1 \\end{bmatrix} \n",
    "$$\n",
    "\n",
    "\n",
    "The density matrix representation for this state is then given by:\n",
    "\n",
    "$$ \n",
    "\\begin{aligned}\n",
    "& \\rho_{AB}  = | \\psi_{AB} \\rangle \\langle \\psi_{AB} |\n",
    "\\\\\n",
    "\\\\\n",
    "& \\rho_{AB} = \\left ( \\frac{1}{\\sqrt{2}} \\begin{bmatrix} 1 \\\\ 0 \\\\ 0 \\\\ 1 \\end{bmatrix} \\right ) \\left ( \\frac{1}{\\sqrt{2}} \\begin{bmatrix} 1 & 0 & 0 & 1 \\end{bmatrix} \\right )\n",
    "\\\\\n",
    "\\\\\n",
    "& \\rho_{AB} = \\frac{1}{2} \\begin{bmatrix} 1 & 0 & 0 & 1 \\\\ 0 & 0 & 0 & 0 \\\\ 0 & 0 & 0 & 0 \\\\ 1 & 0 & 0 & 1 \\\\ \\end{bmatrix}\n",
    "\\end{aligned}\n",
    "$$\n",
    "\n",
    "\n",
    "In Qiskit, we can use the ``quantum_info`` module to represent quantum states either in state vector notation, or in the density matrix representation. For convenience, we will import this module as ``qi``:"
   ]
  },
  {
   "cell_type": "code",
   "execution_count": 8,
   "id": "7fd02bfa",
   "metadata": {
    "slideshow": {
     "slide_type": "subslide"
    }
   },
   "outputs": [],
   "source": [
    "from qiskit import QuantumCircuit\n",
    "import qiskit.quantum_info as qi"
   ]
  },
  {
   "cell_type": "markdown",
   "id": "f3f3fad4",
   "metadata": {
    "slideshow": {
     "slide_type": "fragment"
    }
   },
   "source": [
    "Let's once again consider the entangled pure state $| \\psi_{AB} \\rangle $. We can prepare this state by applying a Hadamard gate to the first qubit, and an CNOT between the first and second qubits:"
   ]
  },
  {
   "cell_type": "code",
   "execution_count": 9,
   "id": "b87dba20",
   "metadata": {
    "slideshow": {
     "slide_type": "fragment"
    }
   },
   "outputs": [
    {
     "data": {
      "image/png": "[encoded data removed]",
      "text/plain": [
       "<Figure size 287.294x200.667 with 1 Axes>"
      ]
     },
     "execution_count": 9,
     "metadata": {},
     "output_type": "execute_result"
    }
   ],
   "source": [
    "qc_AB = QuantumCircuit(2)\n",
    "qc_AB.h(0)\n",
    "qc_AB.cx(0,1)\n",
    "qc_AB.draw('mpl')"
   ]
  },
  {
   "cell_type": "markdown",
   "id": "f6db78ee",
   "metadata": {
    "slideshow": {
     "slide_type": "fragment"
    }
   },
   "source": [
    "To obtain the state constructed by our ``QuantumCircuit`` in state vector notation, we can make use of the ``Statevector.from_instruction()`` class method from the ``quantum_info`` module as follows:"
   ]
  },
  {
   "cell_type": "code",
   "execution_count": 10,
   "id": "64fdf5e7",
   "metadata": {
    "slideshow": {
     "slide_type": "fragment"
    }
   },
   "outputs": [
    {
     "data": {
      "text/latex": [
       "$$|\\psi_{AB}\\rangle = \\frac{\\sqrt{2}}{2} |00\\rangle+\\frac{\\sqrt{2}}{2} |11\\rangle$$"
      ],
      "text/plain": [
       "<IPython.core.display.Latex object>"
      ]
     },
     "execution_count": 10,
     "metadata": {},
     "output_type": "execute_result"
    }
   ],
   "source": [
    "psi_AB = qi.Statevector.from_instruction(qc_AB)\n",
    "psi_AB.draw('latex', prefix='|\\\\psi_{AB}\\\\rangle = ')"
   ]
  },
  {
   "cell_type": "markdown",
   "id": "5dca4cd7",
   "metadata": {
    "slideshow": {
     "slide_type": "fragment"
    }
   },
   "source": [
    "Similarly, we can use the ``DensityMatrix.from_instruction()`` class method to obtain density matrix representation for this same state:"
   ]
  },
  {
   "cell_type": "code",
   "execution_count": 11,
   "id": "a7ecf9c4",
   "metadata": {},
   "outputs": [
    {
     "data": {
      "text/latex": [
       "$$\n",
       "\\rho_{AB} = \n",
       "\\begin{bmatrix}\n",
       "\\tfrac{1}{2} & 0 & 0 & \\tfrac{1}{2}  \\\\\n",
       " 0 & 0 & 0 & 0  \\\\\n",
       " 0 & 0 & 0 & 0  \\\\\n",
       " \\tfrac{1}{2} & 0 & 0 & \\tfrac{1}{2}  \\\\\n",
       " \\end{bmatrix}\n",
       "$$"
      ],
      "text/plain": [
       "<IPython.core.display.Latex object>"
      ]
     },
     "execution_count": 11,
     "metadata": {},
     "output_type": "execute_result"
    }
   ],
   "source": [
    "rho_AB = qi.DensityMatrix.from_instruction(qc_AB)\n",
    "rho_AB.draw('latex', prefix='\\\\rho_{AB} = ')"
   ]
  },
  {
   "cell_type": "markdown",
   "id": "1a9f2d18",
   "metadata": {
    "slideshow": {
     "slide_type": "fragment"
    }
   },
   "source": [
    "As expected, the result matches our calculation. We can also visualize the density matrix using a cityscape plot of the state:"
   ]
  },
  {
   "cell_type": "code",
   "execution_count": 12,
   "id": "511accf8",
   "metadata": {
    "slideshow": {
     "slide_type": "subslide"
    }
   },
   "outputs": [
    {
     "data": {
      "image/png": "[encoded data removed]",
      "text/plain": [
       "<Figure size 1500x500 with 2 Axes>"
      ]
     },
     "execution_count": 12,
     "metadata": {},
     "output_type": "execute_result"
    }
   ],
   "source": [
    "from qiskit.visualization import plot_state_city\n",
    "plot_state_city(rho_AB.data, title='Density Matrix')"
   ]
  },
  {
   "cell_type": "markdown",
   "id": "d1e129d7",
   "metadata": {
    "slideshow": {
     "slide_type": "fragment"
    }
   },
   "source": [
    "### 1. Exercises  <a id=\"ex1\"></a>\n",
    "Find the corresponding density matrix for the following pure states. Use Qiskit to prepare the states, and verify your results using the ``quantum_info`` module:\n",
    "   \n",
    "1.\t$ \\frac{1}{2}\\left ( |0 0 \\rangle + |0 1 \\rangle + |1 0 \\rangle + |1 1 \\rangle \\right ) $       \n",
    "\n"
   ]
  },
  {
   "cell_type": "markdown",
   "id": "aadf9295",
   "metadata": {
    "slideshow": {
     "slide_type": "fragment"
    }
   },
   "source": [
    "Now, all we have done so far is show a different way to represent quantum states, but there is no apparent advantage in doing so. To understand why the density matrix representation is beneficial, we need to learn about the concept of mixed states."
   ]
  },
  {
   "cell_type": "markdown",
   "id": "e3911f45",
   "metadata": {
    "slideshow": {
     "slide_type": "slide"
    }
   },
   "source": [
    "## 2. Mixed States <a id=\"mixed\"></a>\n",
    "\n",
    "Mixed states are those that consist of statistical ensembles of different quantum states.\n",
    "\n",
    "Consider, once again, the two-qubit entangled state:\n",
    "\n",
    "$$ | \\psi_{AB} \\rangle = \\frac{1}{\\sqrt{2}} \\left ( | 0_A 0_B \\rangle + | 1_A 1_B \\rangle \\right ) $$\n",
    "\n",
    "Here we have explicitly used the subscripts $A$ and $B$ to label the qubits associated with registers $q_1$ and $q_0$, respectively. Now, let's assume that right after preparing our state $| \\psi_{AB} \\rangle $ we perform a measurement on register $q_1$.\n",
    "\n",
    "\n",
    "We know that after a measurement, $\\psi_B$ will be in state $| 0_B \\rangle $ with probability $1/2$, or in state $| 1_B \\rangle $ with probability $1/2$; however, $\\psi_B$ is **not** in a linear superposition of $| 0_B \\rangle $ and $| 1_B \\rangle $. In other words, $\\psi_B$ **cannot** be expressed as a state vector of the form $1/\\sqrt{2} \\left (|0_B \\rangle + | 1_B \\rangle \\right)$. Instead, we have to use a different notation to write down that $\\psi_B$ is rather an ensemble (not a quantum superposition) of the states $| 0_B \\rangle $ and $| 1_B \\rangle $, and whose outcome depends on what we measure on register $q_1$. \n",
    "\n",
    "We then call $\\psi_B$ a mixed state, which can be represented as an ensemble of states:\n",
    "\n",
    "$$\n",
    "\\left \\{| \\psi_{B_0} \\rangle , | \\psi_{B_1} \\rangle \\right \\} = \\left \\{ | 0_B \\rangle , | 1_B \\rangle \\right \\},\n",
    "$$ \n",
    "\n",
    "each with an associated probability of occurrence:\n",
    "\n",
    "$$ \\left \\{ p_0, p_1 \\right \\} = \\left \\{ 1/2, 1/2 \\right \\} $$\n",
    "\n",
    "Although this way of expressing $\\psi_B$ (or any general mixed state) is perfectly valid, it turns out to be somewhat inconvenient. Since a mixed state can consist of a myriad of pure states, it can be difficult to track how the whole ensemble evolves when, for example, gates are applied to it. It is here that we turn to the density matrix representation.\n",
    "\n",
    "A mixed state, consisting of several possible outcome pure states $|\\psi_j \\rangle$ , each with probability of occurrence $p_j$, is defined as a density matrix of the form:\n",
    "\n",
    "$$ \\rho \\equiv \\sum_{j} p_j |\\psi_j \\rangle \\langle \\psi_j | $$\n",
    "\n",
    "It is easy to see that this general definition of the density matrix also holds for pure states, for which we will only have one $ |\\psi_j \\rangle $ term with $p_j = 1$."
   ]
  },
  {
   "cell_type": "markdown",
   "id": "9d12270f",
   "metadata": {
    "slideshow": {
     "slide_type": "subslide"
    }
   },
   "source": [
    "### State Purity <a id=\"trace_sqr\"></a>\n",
    "\n",
    "A very useful property of the density matrix is that when taking the trace $\\text{Tr}$ of its square $\\rho^{2}$, we obtain a scalar value $\\gamma$ that is good measure of the purity of the state the matrix represents. For normalized states, this value is always less than or equal to 1, with the equality occurring for the case of a pure state:\n",
    "\n",
    "$$ \\gamma \\equiv \\text{Tr}(\\rho^{2}) \\leq 1 $$\n",
    "\n",
    "$$ \\gamma \\equiv \\text{Tr}(\\rho^{2}) = 1 \\; \\text{if pure} $$\n",
    "\n",
    "In Qiskit, we can easily extract the purity of a density matrix by using the `purity()` class method. For example, for the pure state $| + \\rangle$, we should expect to see a purity of 1:"
   ]
  },
  {
   "cell_type": "code",
   "execution_count": 14,
   "id": "2fda7637",
   "metadata": {
    "slideshow": {
     "slide_type": "fragment"
    }
   },
   "outputs": [
    {
     "data": {
      "text/latex": [
       "$$\n",
       "\\rho_p = \n",
       "\\begin{bmatrix}\n",
       "\\tfrac{1}{2} & \\tfrac{1}{2}  \\\\\n",
       " \\tfrac{1}{2} & \\tfrac{1}{2}  \\\\\n",
       " \\end{bmatrix}\n",
       "$$"
      ],
      "text/plain": [
       "<IPython.core.display.Latex object>"
      ]
     },
     "metadata": {},
     "output_type": "display_data"
    },
    {
     "name": "stdout",
     "output_type": "stream",
     "text": [
      "State purity:  1.0\n"
     ]
    }
   ],
   "source": [
    "import numpy as np\n",
    "rho_p = qi.DensityMatrix.from_label('+')\n",
    "display(rho_p.draw('latex', prefix='\\\\rho_p = '))\n",
    "gamma_p = rho_p.purity()\n",
    "print(\"State purity: \", np.round(np.real(gamma_p),3))"
   ]
  },
  {
   "cell_type": "markdown",
   "id": "255fc213",
   "metadata": {
    "slideshow": {
     "slide_type": "fragment"
    }
   },
   "source": [
    "And, for a mixed state, like $\\rho_m = \\frac{1}{2} | 0 \\rangle \\langle 0 | + \\frac{1}{2} | 1 \\rangle \\langle 1 | $, we expect a purity of less than 1:"
   ]
  },
  {
   "cell_type": "code",
   "execution_count": 15,
   "id": "4ea3d0f0",
   "metadata": {
    "slideshow": {
     "slide_type": "fragment"
    }
   },
   "outputs": [
    {
     "data": {
      "text/latex": [
       "$$\n",
       "\\rho_m = \n",
       "\\begin{bmatrix}\n",
       "\\tfrac{1}{2} & 0  \\\\\n",
       " 0 & \\tfrac{1}{2}  \\\\\n",
       " \\end{bmatrix}\n",
       "$$"
      ],
      "text/plain": [
       "<IPython.core.display.Latex object>"
      ]
     },
     "metadata": {},
     "output_type": "display_data"
    },
    {
     "name": "stdout",
     "output_type": "stream",
     "text": [
      "State purity:  0.5\n"
     ]
    }
   ],
   "source": [
    "rho_m = 1/2*(qi.DensityMatrix.from_label('0') + qi.DensityMatrix.from_label('1'))\n",
    "display(rho_m.draw('latex', prefix='\\\\rho_m = '))\n",
    "gamma_m = rho_m.purity()\n",
    "print(\"State purity: \", np.round(np.real(gamma_m),3))"
   ]
  },
  {
   "cell_type": "markdown",
   "id": "5dd47307",
   "metadata": {
    "slideshow": {
     "slide_type": "fragment"
    }
   },
   "source": [
    "***NB*** One of the drawbacks of representing the density matrices in terms of ensembles of basis states, is that their outcome is not unique. Understanding that the same density matrix can represent many different ensembles of quantum states is important to avoid drawing conclusions about a particular system simply based on its density matrix representation alone. "
   ]
  },
  {
   "cell_type": "markdown",
   "id": "e557d501",
   "metadata": {
    "slideshow": {
     "slide_type": "slide"
    }
   },
   "source": [
    "### The Reduced Density Matrix\n",
    "When working with the density matrix notation on composite systems, we can extract the state of each subsystem, even if they are entangled. This is done in the form of what is known as the reduced density matrix.\n",
    "\n",
    "Consider a quantum system composed of subsystems $A$ and $B$, and fully described by the density matrix $\\rho_{AB}$. The reduced density matrix of subsystem $A$ is then given by:\n",
    "\n",
    "$$ \\rho_{A} = \\text{Tr}_B(\\rho_{AB}), $$\n",
    "\n",
    "\n",
    "Here, $\\text{Tr}_B$ is an operation known as the partial trace, which is defined as: \n",
    "\n",
    "$$\n",
    "\\text{Tr}_B \\left (| \\xi_u \\rangle \\langle \\xi_v | \\otimes | \\chi_u \\rangle \\langle \\chi_v | \\right ) \\equiv | \\xi_u \\rangle \\langle \\xi_v | \\text{ Tr} \\left ( | \\chi_u \\rangle \\langle \\chi_v | \\right )\n",
    "$$\n",
    "\n",
    "$| \\xi_u \\rangle $ and $| \\xi_v \\rangle $ are arbitrary states in the subspace of $A$, and $| \\chi_u \\rangle $ and $| \\chi_v \\rangle $ arbitrary states in the subspace of $B$. $\\text{Tr}$ is the standard trace operation, which for two arbitrary states $\\text{Tr} \\left ( | \\chi_u \\rangle \\langle \\chi_v | \\right ) = \\langle \\chi_v |\\chi_u \\rangle $. Similarly, we can calculate the reduced density matrix of subsystem $B$ using the partial trace over $A$.\n",
    "\n",
    "As an example, let's reconsider the pure entangled state:\n",
    "\n",
    "$$ | \\psi_{AB} \\rangle = \\frac{1}{\\sqrt{2}} \\left ( | 0_A 0_B \\rangle + | 1_A 1_B \\rangle \\right ) $$\n",
    "\n",
    "\n"
   ]
  },
  {
   "cell_type": "markdown",
   "id": "396ea486",
   "metadata": {
    "slideshow": {
     "slide_type": "subslide"
    }
   },
   "source": [
    "This system is then composed of single-qubit subsystem $A$ with basis vectors $ \\left \\{ |\\xi_1 \\rangle, |\\xi_2 \\rangle \\right \\} = \\{ | 0_A \\rangle, | 1_A \\rangle \\}$, and single-qubit subsystem $B$ with basis vectors $ \\left \\{ |\\chi_1 \\rangle, |\\chi_2 \\rangle \\right \\} = \\{ | 0_B \\rangle, | 1_B \\rangle \\}$. We know that this system is not separable (i.e., $| \\chi_{AB} \\rangle \\neq |\\chi_{A}\\rangle \\otimes |\\chi_{B}\\rangle$); however, by using the reduced density matrix, we can find a full description for subsystems $A$ and $B$ as follows.\n",
    "\n",
    "The density matrix of our state $| \\psi_{AB} \\rangle$ can be expressed in terms of outer products of the basis vectors as:\n",
    "\n",
    "$$\n",
    "\\rho_{AB} = | \\psi_{AB} \\rangle \\langle \\psi_{AB} | =  \\frac{1}{2} \\left [ | 0_A 0_B \\rangle \\langle 0_A 0_B | + | 0_A 0_B \\rangle \\langle 1_A 1_B | + | 1_A 1_B \\rangle \\langle 0_A 0_B | + | 1_A 1_B \\rangle \\langle 1_A 1_B | \\right ]\n",
    "$$\n",
    "\n",
    "\n",
    "Now, to calculate the reduced density matrix for, let's say, subsystem $B$, we have:\n",
    "\n",
    "$$\n",
    "\\begin{aligned}\n",
    "\\rho_{B} & = \\text{Tr}_A(\\rho_{AB})\n",
    "\\\\\n",
    "\\\\\n",
    "& = \\frac{1}{2}\\left [ \\text{Tr}_A(| 0_A 0_B \\rangle \\langle 0_A 0_B |) + \\text{Tr}_A(| 0_A 0_B \\rangle \\langle 1_A 1_B |) + \\text{Tr}_A(| 1_A 1_B \\rangle \\langle 0_A 0_B |) + \\text{Tr}_A(| 1_A 1_B \\rangle \\langle 1_A 1_B |) \\right ]\n",
    "\\\\\n",
    "\\\\\n",
    "& = \\frac{1}{2}\\left [ \\text{Tr}(| 0_A \\rangle \\langle 0_A |)| 0_B \\rangle \\langle 0_B | + \\text{Tr}(| 0_A \\rangle \\langle 1_A |)| 0_B \\rangle \\langle 1_B | + \\text{Tr}(| 1_A \\rangle \\langle 0_A |) | 1_B \\rangle \\langle 0_B | + \\text{Tr}(| 1_A \\rangle \\langle 1_A |) | 1_B \\rangle \\langle 1_B | \\right ]\n",
    "\\\\\n",
    "\\\\\n",
    "& = \\frac{1}{2}\\left [ \\langle 0_A | 0_A \\rangle | 0_B \\rangle \\langle 0_B | + \\langle 1_A | 0_A \\rangle | 0_B \\rangle \\langle 1_B | + \\langle 0_A | 1_A \\rangle | 1_B \\rangle \\langle 0_B | + \\langle 1_A | 1_A \\rangle | 1_B \\rangle \\langle 1_B | \\right ]\n",
    "\\\\\n",
    "\\\\\n",
    "& = \\frac{1}{2}\\left [ | 0_B \\rangle \\langle 0_B | + | 1_B \\rangle \\langle 1_B | \\right ]\n",
    "\\\\\n",
    "\\\\\n",
    "&= \\frac{1}{2} \\begin{bmatrix} 1 & 0 \\\\ 0 & 1 \\end{bmatrix} \n",
    "\\end{aligned}\n",
    "$$\n",
    "\n"
   ]
  },
  {
   "cell_type": "markdown",
   "id": "b01c8d90",
   "metadata": {
    "slideshow": {
     "slide_type": "subslide"
    }
   },
   "source": [
    "At first glance, this result might seem rather strange. We started with the pure entangled state $|\\psi_{AB} \\rangle $, and  calculated that the state of one of its parts (subsystem $B$) is the mixed state $\\rho_{B}$. However, going back to the first example given above, we see that the result from calculating the reduced density matrix for $B$ is equivalent to the representation we obtained for $\\psi_B$, when measurements were taken over qubit $A$. We can then conclude that the reduced density matrix $\\rho_{B}$ is a way to describe the statistical outcomes of subsystem $B$, when the measurement outcomes of subsystem $A$ are averaged out. This is in fact what ”tracing out” subsystem $A$ means.\n",
    "\n",
    "It is worth mentioning that so far we have described the concept of partial trace for a bipartite (two-part) system, but this can be generalized for multi-part systems.\n",
    "\n",
    "In Qiskit, we can easily obtain the reduced density matrix of a system by using the ``partial_trace()`` function and passing the density matrix of the composite system, and a list with the subsystems to trace over:\n",
    "\n"
   ]
  },
  {
   "cell_type": "code",
   "execution_count": 16,
   "id": "15ee5dba",
   "metadata": {
    "slideshow": {
     "slide_type": "fragment"
    }
   },
   "outputs": [
    {
     "data": {
      "text/latex": [
       "$$\n",
       " \\rho_{B} = \n",
       "\\begin{bmatrix}\n",
       "\\tfrac{1}{2} & 0  \\\\\n",
       " 0 & \\tfrac{1}{2}  \\\\\n",
       " \\end{bmatrix}\n",
       "$$"
      ],
      "text/plain": [
       "<IPython.core.display.Latex object>"
      ]
     },
     "metadata": {},
     "output_type": "display_data"
    },
    {
     "data": {
      "text/latex": [
       "$$\n",
       " \\rho_{A} = \n",
       "\\begin{bmatrix}\n",
       "\\tfrac{1}{2} & 0  \\\\\n",
       " 0 & \\tfrac{1}{2}  \\\\\n",
       " \\end{bmatrix}\n",
       "$$"
      ],
      "text/plain": [
       "<IPython.core.display.Latex object>"
      ]
     },
     "metadata": {},
     "output_type": "display_data"
    }
   ],
   "source": [
    "rho_B = qi.partial_trace(rho_AB,[0])\n",
    "rho_A = qi.partial_trace(rho_AB,[1])\n",
    "\n",
    "display(rho_B.draw('latex', prefix=\" \\\\rho_{B} = \"),\n",
    "        rho_A.draw('latex', prefix=\" \\\\rho_{A} = \"))"
   ]
  },
  {
   "cell_type": "markdown",
   "id": "2b23558d",
   "metadata": {
    "slideshow": {
     "slide_type": "fragment"
    }
   },
   "source": [
    "### Exercises  <a id=\"ex4\"></a>\n",
    "Calculate the reduced density matrices for following:\n",
    "\n",
    "The mixed state: $ \\rho_{mr} = \\frac{1}{4} | \\Phi^+ \\rangle \\langle \\Phi^+ | + \\frac{3}{4} | \\Phi^- \\rangle \\langle \\Phi^- |$, where $| \\Phi^+ \\rangle$ and $| \\Phi^- \\rangle$ are the Bell states:\n",
    "\n",
    "$| \\Phi^+ \\rangle = \\frac{1}{\\sqrt{2}} \\left( |00 \\rangle + |11 \\rangle \\right ) $\n",
    "\n",
    "$| \\Phi^- \\rangle = \\frac{1}{\\sqrt{2}} \\left( |00 \\rangle - |11 \\rangle \\right ) $\n",
    "    \n",
    "    \n",
    "    and for the following quantum circuit"
   ]
  },
  {
   "cell_type": "code",
   "execution_count": 17,
   "id": "8054fdee",
   "metadata": {
    "slideshow": {
     "slide_type": "fragment"
    }
   },
   "outputs": [
    {
     "name": "stderr",
     "output_type": "stream",
     "text": [
      "/opt/homebrew/Caskroom/miniforge/base/envs/qiskit_trieste22/lib/python3.9/site-packages/qiskit/visualization/circuit/matplotlib.py:163: UserWarning: Style JSON file 'iqx.json' not found in any of these locations: /opt/homebrew/Caskroom/miniforge/base/envs/qiskit_trieste22/lib/python3.9/site-packages/qiskit/visualization/circuit/styles/iqx.json, iqx.json. Will use default style.\n",
      "  self._style, def_font_ratio = load_style(style)\n"
     ]
    },
    {
     "data": {
      "image/png": "[encoded data removed]",
      "text/plain": [
       "<Figure size 370.906x200.667 with 1 Axes>"
      ]
     },
     "execution_count": 17,
     "metadata": {},
     "output_type": "execute_result"
    }
   ],
   "source": [
    "qc_CD = QuantumCircuit(2)\n",
    "qc_CD.ry(np.pi/3,0)\n",
    "qc_CD.h(1)\n",
    "qc_CD.cx(0,1)\n",
    "qc_CD.cx(1,0)\n",
    "qc_CD.draw(\"mpl\", style=\"iqx\")"
   ]
  },
  {
   "cell_type": "markdown",
   "id": "26f418a7",
   "metadata": {
    "slideshow": {
     "slide_type": "subslide"
    }
   },
   "source": [
    "### Phase Kickback"
   ]
  },
  {
   "cell_type": "markdown",
   "id": "9944a943",
   "metadata": {
    "slideshow": {
     "slide_type": "subslide"
    }
   },
   "source": [
    "<img src=\"images/phase_kickback.png\" width=\"240\" height=\"240\" align=\"center\"/>\n",
    "\n",
    "1- Implement the circuit and visualize it to make sure it is correct.\n",
    "\n",
    "2 - Obtain the final state using the state vector simulator and\n",
    "visualize the state of the individual qubits on the Bloch sphere.\n",
    "Which state did you obtain?\n",
    "\n",
    "3 - Add an additional `CNOT` gate to the circuit.\n",
    "\n",
    "4 - Execute it again the state vector simulator and the state of the\n",
    "individual qubits on the Bloch sphere. What do you observe?\n"
   ]
  },
  {
   "cell_type": "markdown",
   "id": "28eeaacf",
   "metadata": {
    "slideshow": {
     "slide_type": "subslide"
    }
   },
   "source": [
    "#### Optional tasks:\n",
    "1 - Replace the CNOT gate in the circuit above with a controlled\n",
    "Rx rotation.\n",
    "\n",
    "2 - Simulate the circuit for various angles of the rotation gate and\n",
    "visualize the results on the Bloch sphere. What do you\n",
    "observe? Can you explain the effect?\n"
   ]
  },
  {
   "cell_type": "markdown",
   "id": "b2ff57aa",
   "metadata": {
    "slideshow": {
     "slide_type": "subslide"
    }
   },
   "source": [
    "These two circuits are special cases of **phase kickback**.\n",
    "\n",
    "Phase kickback is a fundamental building block of many quantum algorithms.\n",
    "General form is:\n",
    "\n",
    "<img src=\"images/phase_kickback2.png\" width=\"340\" height=\"340\" align=\"center\"/>"
   ]
  },
  {
   "cell_type": "markdown",
   "id": "8c3ba601",
   "metadata": {
    "slideshow": {
     "slide_type": "subslide"
    }
   },
   "source": [
    "Choosing $|u\\rangle$ as an eigenstate of $U$ with eigenvalue $\\exp(i\\phi)$ we have:\n",
    "\n",
    "- $|0\\rangle \\otimes |U\\rangle \\to H \\to \\frac{1}{\\sqrt{2}}( |0\\rangle + |1\\rangle) \\otimes |u\\rangle $ \n",
    "- $\\frac{1}{\\sqrt{2}}( |0\\rangle + |1\\rangle) \\otimes |u\\rangle  \\to cU \\to \\frac{1}{\\sqrt{2}}( |0\\rangle \\otimes |u\\rangle+ \\exp(i\\phi)|1\\rangle\\otimes |u\\rangle) $\n",
    "\n",
    "$\\longrightarrow$ Phase has been kicked back into the control qubit\n",
    "\n",
    "- $\\frac{1}{\\sqrt{2}}( |0\\rangle \\otimes |u\\rangle+ \\exp(i\\phi)|1\\rangle\\otimes |u\\rangle) \\to H \\to (\\cos\\frac{\\phi}{\\sqrt{2}}|0\\rangle)+ i\\sin\\frac{\\phi}{\\sqrt{2}}|1\\rangle)\\otimes |u\\rangle$\n"
   ]
  },
  {
   "cell_type": "markdown",
   "id": "31b5e19f",
   "metadata": {
    "slideshow": {
     "slide_type": "fragment"
    }
   },
   "source": [
    "Further reading on https://qiskit.org/textbook/ch-gates/phase-kickback.html"
   ]
  },
  {
   "cell_type": "markdown",
   "id": "6f1324d0",
   "metadata": {
    "slideshow": {
     "slide_type": "slide"
    }
   },
   "source": [
    "## HOMEWORK"
   ]
  },
  {
   "cell_type": "markdown",
   "id": "0c23dc24",
   "metadata": {
    "slideshow": {
     "slide_type": "subslide"
    }
   },
   "source": [
    "### 1. Explaining the CNOT Circuit Identity <a id=\"explaining-identity\"></a>\n",
    "Let's lool at this identity:\n",
    "\n",
    "![cnot_identity](images/identities_1.svg)\n",
    "\n",
    "This is an example of _kickback_ (or, _phase kickback_ ) which is very important and is used in almost every quantum algorithm. Kickback is where the eigenvalue added by a gate to a qubit is ‘kicked back’ into a different qubit via a controlled operation. This identity is very useful in hardware, since some hardwares only allow for CNOTs in one direction between two specific qubits. We can use this identity to overcome this problem and allow CNOTs in both directions."
   ]
  },
  {
   "cell_type": "markdown",
   "id": "b402c266",
   "metadata": {
    "slideshow": {
     "slide_type": "subslide"
    }
   },
   "source": [
    "For example, we saw that performing an X-gate on a $|{-}\\rangle$ qubit gives it the phase $-1$:\n",
    "$$\n",
    "X|{-}\\rangle = -|{-}\\rangle\n",
    "$$\n",
    "\n",
    "When our control qubit is in either $|0\\rangle$ or $|1\\rangle$, this phase affects the whole state, however it is a global phase and has no observable effects:\n",
    "\n",
    "$$\n",
    "\\begin{aligned}\n",
    "\\text{CNOT}|{-}0\\rangle & = |{-}\\rangle \\otimes |0\\rangle \\\\\n",
    "                        & = |{-}0\\rangle \\\\\n",
    "                        \\quad & \\\\\n",
    "\\text{CNOT}|{-}1\\rangle & = X|{-}\\rangle \\otimes |1\\rangle \\\\\n",
    "                        & = -|{-}\\rangle \\otimes |1\\rangle \\\\\n",
    "                        & = -|{-}1\\rangle \\\\\n",
    "\\end{aligned}\n",
    "$$\n",
    "\n",
    "The interesting effect is when our control qubit is in superposition...\n",
    "\n",
    "#### Try to complete this initial proof."
   ]
  },
  {
   "cell_type": "markdown",
   "id": "71af74f8",
   "metadata": {
    "slideshow": {
     "slide_type": "subslide"
    }
   },
   "source": [
    "## 2. Entanglement Tests\n"
   ]
  },
  {
   "cell_type": "markdown",
   "id": "cb2400cc",
   "metadata": {
    "slideshow": {
     "slide_type": "subslide"
    }
   },
   "source": [
    "- Create the following circuit (add swap gates in the end to have the usual order of the qubits in read out)\n",
    "<center><img src=\"images/circuito_esonero.png\" width=\"500\"/></center>\n",
    "<center>Circuit proposed in the first internal test.</center>"
   ]
  },
  {
   "cell_type": "code",
   "execution_count": null,
   "id": "d27cd7f9",
   "metadata": {
    "slideshow": {
     "slide_type": "subslide"
    }
   },
   "outputs": [],
   "source": [
    "from qiskit import *\n",
    "from qiskit.circuit import QuantumCircuit\n",
    "from qiskit.quantum_info import partial_trace, entropy\n",
    "\n",
    "import numpy as np\n",
    "import math"
   ]
  },
  {
   "cell_type": "code",
   "execution_count": null,
   "id": "fbc6ff0e",
   "metadata": {
    "slideshow": {
     "slide_type": "fragment"
    }
   },
   "outputs": [],
   "source": [
    "nQubits = # <--- insert your code here\n",
    "nClassicBits = 4\n",
    "\n",
    "circuit.draw(output='mpl')"
   ]
  },
  {
   "cell_type": "markdown",
   "id": "237b98d2",
   "metadata": {
    "slideshow": {
     "slide_type": "subslide"
    }
   },
   "source": [
    "#### Calculate the overall output state\n",
    "\n",
    "The order of the 4-qubits state follows the decimal notation:"
   ]
  },
  {
   "cell_type": "markdown",
   "id": "22fc5a2f",
   "metadata": {
    "slideshow": {
     "slide_type": "fragment"
    }
   },
   "source": [
    "<center><img src=\"images/Decimal_notation1.jpeg\" width=\"700\"/></center>"
   ]
  },
  {
   "cell_type": "markdown",
   "id": "f9c94a83",
   "metadata": {
    "slideshow": {
     "slide_type": "subslide"
    }
   },
   "source": [
    "In the case of 4 qubits we then have the states ordered as follow:"
   ]
  },
  {
   "cell_type": "markdown",
   "id": "828d84ec",
   "metadata": {},
   "source": [
    "<center><img src=\"images/Decimal_notation2.jpeg\" width=\"800\"/> </center"
   ]
  },
  {
   "cell_type": "code",
   "execution_count": null,
   "id": "cbb8bf6f",
   "metadata": {},
   "outputs": [],
   "source": [
    "from qiskit import Aer\n",
    "\n",
    "# Run the quantum circuit on a statevector simulator backend\n",
    "backend = # <--- insert your code here\n",
    "\n",
    "outputstate = # <--- insert your code here\n",
    "print(outputstate)"
   ]
  },
  {
   "cell_type": "markdown",
   "id": "6d760348",
   "metadata": {
    "slideshow": {
     "slide_type": "subslide"
    }
   },
   "source": [
    "Now print the amplitudes and compare them with the calculated output state:\n",
    "<center><img src=\"images/psi_out.jpeg\" width=\"600\"/></center>"
   ]
  },
  {
   "cell_type": "code",
   "execution_count": null,
   "id": "82f474e1",
   "metadata": {
    "slideshow": {
     "slide_type": "fragment"
    }
   },
   "outputs": [],
   "source": [
    "list_check = [5,7,8,10]\n",
    "for ind in list_check:\n",
    "    print(outputstate[ind])"
   ]
  },
  {
   "cell_type": "markdown",
   "id": "2b9d9301",
   "metadata": {
    "slideshow": {
     "slide_type": "subslide"
    }
   },
   "source": [
    "#### Plot the final state using the Bloch and the Q-sphere "
   ]
  },
  {
   "cell_type": "markdown",
   "id": "ba7c5a7d",
   "metadata": {
    "slideshow": {
     "slide_type": "subslide"
    }
   },
   "source": [
    "#### Is AB entangled with CD? \n",
    "Calculate the reduced density matrix $\\rho_{CD}$ anche check if the `Von Neumann entropy` is equal or greater than zero.\n",
    "\n",
    "We can do this using the previous result of the output state and the Qiskit's **partial_trace(state, list_qubits_to_be_traced_out)** module, that let us calculate reduced matrices.\n",
    "\n",
    "We can also use the Qiskit's `entropy(rho_matrix)` module to calculate the Von Neumann entropy. See https://github.com/Qiskit/qiskit-terra/blob/main/qiskit/quantum_info/states/measures.py for more details."
   ]
  },
  {
   "cell_type": "code",
   "execution_count": null,
   "id": "1c4cf96a",
   "metadata": {
    "slideshow": {
     "slide_type": "fragment"
    }
   },
   "outputs": [],
   "source": [
    "def check_vn_entropy(vn_entropy):\n",
    "    if vn_entropy != 0.:\n",
    "        print(\"The state is a mixed state\")"
   ]
  },
  {
   "cell_type": "code",
   "execution_count": null,
   "id": "19155035",
   "metadata": {},
   "outputs": [],
   "source": [
    "## insert your code here -->\n",
    "check_vn_entropy(my_entropy)"
   ]
  }
 ],
 "metadata": {
  "celltoolbar": "Slideshow",
  "kernelspec": {
   "display_name": "Python 3 (ipykernel)",
   "language": "python",
   "name": "python3"
  },
  "language_info": {
   "codemirror_mode": {
    "name": "ipython",
    "version": 3
   },
   "file_extension": ".py",
   "mimetype": "text/x-python",
   "name": "python",
   "nbconvert_exporter": "python",
   "pygments_lexer": "ipython3",
   "version": "3.9.13"
  }
 },
 "nbformat": 4,
 "nbformat_minor": 5
}
