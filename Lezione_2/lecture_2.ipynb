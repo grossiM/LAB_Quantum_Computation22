{
 "cells": [
  {
   "cell_type": "markdown",
   "id": "125bd72e",
   "metadata": {
    "slideshow": {
     "slide_type": "slide"
    }
   },
   "source": [
    "# Lecture 2\n",
    "<br>\n",
    "<br>\n",
    "\n",
    "You can find a copy of this presentation at\n",
    "\n",
    "https://github.com/grossiM/LAB_Quantum_Computation22/tree/main\n",
    "\n",
    "\n",
    "michele.grossi@cern.ch"
   ]
  },
  {
   "cell_type": "markdown",
   "id": "1efbe806",
   "metadata": {},
   "source": [
    "# Noise\n",
    "\n",
    "This tutorial introduces how to use the Qiskit Aer `noise` module to build custom noise models for noisy simulations."
   ]
  },
  {
   "cell_type": "markdown",
   "id": "80cd9ed8",
   "metadata": {},
   "source": [
    "<img src=\"new_images/noise_model_picture.PnG\">"
   ]
  },
  {
   "cell_type": "code",
   "execution_count": 1,
   "id": "d7430b7c",
   "metadata": {
    "slideshow": {
     "slide_type": "subslide"
    }
   },
   "outputs": [
    {
     "data": {
      "text/html": [
       "<h3>Version Information</h3><table><tr><th>Qiskit Software</th><th>Version</th></tr><tr><td><code>qiskit-terra</code></td><td>0.22.0</td></tr><tr><td><code>qiskit-aer</code></td><td>0.11.0</td></tr><tr><td><code>qiskit-ibmq-provider</code></td><td>0.19.2</td></tr><tr><td><code>qiskit</code></td><td>0.39.0</td></tr><tr><th>System information</th></tr><tr><td>Python version</td><td>3.9.13</td></tr><tr><td>Python compiler</td><td>Clang 13.0.1 </td></tr><tr><td>Python build</td><td>main, May 27 2022 17:01:00</td></tr><tr><td>OS</td><td>Darwin</td></tr><tr><td>CPUs</td><td>10</td></tr><tr><td>Memory (Gb)</td><td>32.0</td></tr><tr><td colspan='2'>Thu Nov 17 17:05:51 2022 CET</td></tr></table>"
      ],
      "text/plain": [
       "<IPython.core.display.HTML object>"
      ]
     },
     "metadata": {},
     "output_type": "display_data"
    },
    {
     "data": {
      "text/html": [
       "<div style='width: 100%; background-color:#d5d9e0;padding-left: 10px; padding-bottom: 10px; padding-right: 10px; padding-top: 5px'><h3>This code is a part of Qiskit</h3><p>&copy; Copyright IBM 2017, 2022.</p><p>This code is licensed under the Apache License, Version 2.0. You may<br>obtain a copy of this license in the LICENSE.txt file in the root directory<br> of this source tree or at http://www.apache.org/licenses/LICENSE-2.0.<p>Any modifications or derivative works of this code must retain this<br>copyright notice, and modified files need to carry a notice indicating<br>that they have been altered from the originals.</p></div>"
      ],
      "text/plain": [
       "<IPython.core.display.HTML object>"
      ]
     },
     "metadata": {},
     "output_type": "display_data"
    }
   ],
   "source": [
    "import qiskit.tools.jupyter\n",
    "%qiskit_version_table\n",
    "%qiskit_copyright"
   ]
  },
  {
   "cell_type": "code",
   "execution_count": 2,
   "id": "6af6ffcd",
   "metadata": {},
   "outputs": [],
   "source": [
    "import numpy as np\n",
    "from qiskit import QuantumCircuit, transpile\n",
    "from qiskit.quantum_info import Kraus, SuperOp\n",
    "from qiskit.providers.aer import AerSimulator\n",
    "from qiskit.tools.visualization import plot_histogram\n",
    "\n",
    "# Import from Qiskit Aer noise module\n",
    "from qiskit.providers.aer.noise import NoiseModel\n",
    "from qiskit.providers.aer.noise import QuantumError, ReadoutError\n",
    "from qiskit.providers.aer.noise import pauli_error\n",
    "from qiskit.providers.aer.noise import depolarizing_error\n",
    "from qiskit.providers.aer.noise import thermal_relaxation_error"
   ]
  },
  {
   "cell_type": "markdown",
   "id": "6315e607",
   "metadata": {},
   "source": [
    "## Qiskit Aer Noise Module\n",
    "\n",
    "The Qiskit Aer `noise` module contains Python classes to build customized noise models for simulation. There are three key classes:\n",
    "\n",
    "1. The `NoiseModel` class which stores a noise model used for noisy simulation.\n",
    "2. The `QuantumError` class which describes CPTP gate errors. These can be applied:\n",
    "    * After *gate* or *reset* instructions\n",
    "    * Before *measure* instructions.\n",
    "\n",
    "3. The `ReadoutError` class which describes classical readout errors."
   ]
  },
  {
   "cell_type": "markdown",
   "id": "aa489760",
   "metadata": {},
   "source": [
    "## Quantum Errors\n",
    "\n",
    "Rather than deal with the `QuantumError` object directly, many helper functions exist to automatically generate a specific type of parameterized quantum error. These are contained in the `noise` module and include functions for many common errors types used in quantum computing research. The function names and the type of error they return are:\n",
    "\n",
    "| Standard error function | Details |\n",
    "| --- | --- |\n",
    "| `kraus_error` | a general n-qubit CPTP error channel given as a list of Kraus matrices $[K_0, ...]$. |\n",
    "| `mixed_unitary_error` | an n-qubit mixed unitary error given as a list of unitary matrices and probabilities $[(U_0, p_0),...]$. |\n",
    "| `coherent_unitary_error` | an n-qubit coherent unitary error given as a single unitary matrix $U$. |\n",
    "| `pauli_error` | an n-qubit Pauli error channel (mixed unitary) given as a list of Pauli's and probabilities $[(P_0, p_0),...]$ |\n",
    "| `depolarizing_error` | an n-qubit depolarizing error channel parameterized by a depolarization probability $p$. |\n",
    "| `reset_error` | a single-qubit reset error parameterized by a probabilities $p_0, p_1$ of resetting to the $|0\\rangle$, $|1\\rangle$ state.|\n",
    "| `thermal_relaxation_error` | a single qubit thermal relaxation channel parameterized by relaxation time constants $T_1$, $T_2$, gate time $t$, and excited state thermal population $p_1$. |\n",
    "| `phase_amplitude_damping_error` | A single-qubit generalized combined phase and amplitude damping error channel given by an amplitude damping parameter $\\lambda$, a phase damping parameter $\\gamma$, and an excited state thermal population $p_1$. |\n",
    "| `amplitude_damping_error` |  A single-qubit generalized amplitude damping error channel given by an amplitude damping parameter $\\lambda$, and an excited state thermal population $p_1$. |\n",
    "| `phase_damping_error` |  A single-qubit phase damping error channel given by a phase damping parameter $\\gamma$ |\n",
    "\n",
    "### Combining quantum errors\n",
    "\n",
    "`QuantumError` instances can be combined by using composition, tensor product, and tensor expansion (reversed order tensor product) to produce new `QuantumErrors` as:\n",
    "\n",
    " * Composition: $\\cal{E}(\\rho)=\\cal{E_2}(\\cal{E_1}(\\rho))$ as `error = error1.compose(error2)`\n",
    " * Tensor product: $\\cal{E}(\\rho) =(\\cal{E_1}\\otimes\\cal{E_2})(\\rho)$ as `error error1.tensor(error2)`\n",
    " * Expand product: $\\cal{E}(\\rho) =(\\cal{E_2}\\otimes\\cal{E_1})(\\rho)$ as `error error1.expand(error2)`"
   ]
  },
  {
   "cell_type": "markdown",
   "id": "fbede64a",
   "metadata": {},
   "source": [
    "### Example\n",
    "\n",
    "For example to construct a 3% single-qubit Bit-flip error:"
   ]
  },
  {
   "cell_type": "code",
   "execution_count": 3,
   "id": "47b4260c",
   "metadata": {},
   "outputs": [
    {
     "name": "stdout",
     "output_type": "stream",
     "text": [
      "QuantumError on 1 qubits. Noise circuits:\n",
      "  P(0) = 0.03, Circuit = \n",
      "   ┌───┐\n",
      "q: ┤ X ├\n",
      "   └───┘\n",
      "  P(1) = 0.97, Circuit = \n",
      "   ┌───┐\n",
      "q: ┤ I ├\n",
      "   └───┘\n",
      "QuantumError on 1 qubits. Noise circuits:\n",
      "  P(0) = 0.03, Circuit = \n",
      "   ┌───┐\n",
      "q: ┤ Z ├\n",
      "   └───┘\n",
      "  P(1) = 0.97, Circuit = \n",
      "   ┌───┐\n",
      "q: ┤ I ├\n",
      "   └───┘\n"
     ]
    }
   ],
   "source": [
    "# Construct a 1-qubit bit-flip and phase-flip errors\n",
    "p_error = 0.03\n",
    "bit_flip = pauli_error([('X', p_error), ('I', 1 - p_error)])\n",
    "phase_flip = pauli_error([('Z', p_error), ('I', 1 - p_error)])\n",
    "print(bit_flip)\n",
    "print(phase_flip)"
   ]
  },
  {
   "cell_type": "code",
   "execution_count": 4,
   "id": "8d13e371",
   "metadata": {},
   "outputs": [
    {
     "name": "stdout",
     "output_type": "stream",
     "text": [
      "QuantumError on 1 qubits. Noise circuits:\n",
      "  P(0) = 0.0009, Circuit = \n",
      "   ┌───┐┌───┐\n",
      "q: ┤ X ├┤ Z ├\n",
      "   └───┘└───┘\n",
      "  P(1) = 0.029099999999999997, Circuit = \n",
      "   ┌───┐┌───┐\n",
      "q: ┤ X ├┤ I ├\n",
      "   └───┘└───┘\n",
      "  P(2) = 0.029099999999999997, Circuit = \n",
      "   ┌───┐┌───┐\n",
      "q: ┤ I ├┤ Z ├\n",
      "   └───┘└───┘\n",
      "  P(3) = 0.9409, Circuit = \n",
      "   ┌───┐┌───┐\n",
      "q: ┤ I ├┤ I ├\n",
      "   └───┘└───┘\n"
     ]
    }
   ],
   "source": [
    "# Compose two bit-flip and phase-flip errors\n",
    "bitphase_flip = bit_flip.compose(phase_flip)\n",
    "print(bitphase_flip)"
   ]
  },
  {
   "cell_type": "markdown",
   "id": "9f6fa939",
   "metadata": {},
   "source": [
    "### Converting to and from QuantumChannel operators\n",
    " \n",
    "We can also convert back and forth between `QuantumError` objects in Qiskit Aer and `QuantumChannel` objects in Qiskit Terra."
   ]
  },
  {
   "cell_type": "code",
   "execution_count": 5,
   "id": "655e0e79",
   "metadata": {},
   "outputs": [
    {
     "name": "stdout",
     "output_type": "stream",
     "text": [
      "Kraus([[[ 0.98488578+0.j,  0.        +0.j],\n",
      "        [ 0.        +0.j,  0.98488578+0.j]],\n",
      "\n",
      "       [[ 0.        +0.j, -0.17320508+0.j],\n",
      "        [-0.17320508+0.j,  0.        -0.j]]],\n",
      "      input_dims=(2,), output_dims=(2,))\n"
     ]
    }
   ],
   "source": [
    "# Convert to Kraus operator\n",
    "bit_flip_kraus = Kraus(bit_flip)\n",
    "print(bit_flip_kraus)"
   ]
  },
  {
   "cell_type": "code",
   "execution_count": 6,
   "id": "1338d89b",
   "metadata": {},
   "outputs": [
    {
     "name": "stdout",
     "output_type": "stream",
     "text": [
      "SuperOp([[1.  +0.j, 0.  +0.j, 0.  +0.j, 0.  +0.j],\n",
      "         [0.  +0.j, 0.94+0.j, 0.  +0.j, 0.  +0.j],\n",
      "         [0.  +0.j, 0.  +0.j, 0.94+0.j, 0.  +0.j],\n",
      "         [0.  +0.j, 0.  +0.j, 0.  +0.j, 1.  +0.j]],\n",
      "        input_dims=(2,), output_dims=(2,))\n"
     ]
    }
   ],
   "source": [
    "# Convert to Superoperator\n",
    "phase_flip_sop = SuperOp(phase_flip)\n",
    "print(phase_flip_sop)"
   ]
  },
  {
   "cell_type": "code",
   "execution_count": 7,
   "id": "3be98617",
   "metadata": {},
   "outputs": [
    {
     "name": "stdout",
     "output_type": "stream",
     "text": [
      "QuantumError on 1 qubits. Noise circuits:\n",
      "  P(0) = 1.0, Circuit = \n",
      "   ┌───────┐\n",
      "q: ┤ kraus ├\n",
      "   └───────┘\n"
     ]
    },
    {
     "data": {
      "text/plain": [
       "True"
      ]
     },
     "execution_count": 7,
     "metadata": {},
     "output_type": "execute_result"
    }
   ],
   "source": [
    "# Convert back to a quantum error\n",
    "print(QuantumError(bit_flip_kraus))\n",
    "\n",
    "# Check conversion is equivalent to original error\n",
    "QuantumError(bit_flip_kraus) == bit_flip"
   ]
  },
  {
   "cell_type": "markdown",
   "id": "3d205d6d",
   "metadata": {},
   "source": [
    "### Readout Error\n",
    "\n",
    "Classical readout errors are specified by a list of assignment probabilities vectors $P(A|B)$:\n",
    "\n",
    "  * $A$ is the *recorded* classical bit value\n",
    "  * $B$ is the *true* bit value returned from the measurement \n",
    " \n",
    "E.g. for 1 qubits: $ P(A|B) = [P(A|0), P(A|1)]$."
   ]
  },
  {
   "cell_type": "code",
   "execution_count": null,
   "id": "9aaa7763",
   "metadata": {},
   "outputs": [],
   "source": [
    "# Measurement miss-assignement probabilities\n",
    "p0given1 = 0.1\n",
    "p1given0 = 0.05\n",
    "\n",
    "ReadoutError([[1 - p1given0, p1given0], [p0given1, 1 - p0given1]])"
   ]
  },
  {
   "cell_type": "markdown",
   "id": "3df4e88d",
   "metadata": {},
   "source": [
    "## Adding errors to a Noise Model\n",
    "\n",
    "When adding a quantum error to a noise model we must specify the type of *instruction* that it acts on, and what qubits to apply it to. There are three cases for Quantum Errors:\n",
    " \n",
    " 1. All-qubit quantum error\n",
    " 2. Specific qubit quantum error\n",
    " 3. Non-local quantum error\n",
    " \n",
    "### All-qubit quantum error\n",
    "\n",
    "This applies the same error to any occurrence of an instruction, regardless of which qubits it acts on.\n",
    "\n",
    "It is added as `noise_model.add_all_qubit_quantum_error(error, instructions)`:"
   ]
  },
  {
   "cell_type": "code",
   "execution_count": 8,
   "id": "197069b0",
   "metadata": {},
   "outputs": [
    {
     "name": "stdout",
     "output_type": "stream",
     "text": [
      "NoiseModel:\n",
      "  Basis gates: ['cx', 'id', 'rz', 'sx', 'u1', 'u2', 'u3']\n",
      "  Instructions with noise: ['u1', 'u2', 'u3']\n",
      "  All-qubits errors: ['u1', 'u2', 'u3']\n"
     ]
    }
   ],
   "source": [
    "# Create an empty noise model\n",
    "noise_model = NoiseModel()\n",
    "\n",
    "# Add depolarizing error to all single qubit u1, u2, u3 gates\n",
    "error = depolarizing_error(0.05, 1)\n",
    "noise_model.add_all_qubit_quantum_error(error, ['u1', 'u2', 'u3'])\n",
    "\n",
    "# Print noise model info\n",
    "print(noise_model)"
   ]
  },
  {
   "cell_type": "markdown",
   "id": "bb6edf8f",
   "metadata": {},
   "source": [
    "### Specific qubit quantum error\n",
    "\n",
    "This applies the error to any occurrence of an instruction acting on a specified list of qubits. Note that the order of the qubit matters: For a 2-qubit gate an error applied to qubits [0, 1] is different to one applied to qubits [1, 0] for example.\n",
    "\n",
    "It is added as `noise_model.add_quantum_error(error, instructions, qubits)`:"
   ]
  },
  {
   "cell_type": "code",
   "execution_count": 9,
   "id": "7892f72a",
   "metadata": {},
   "outputs": [
    {
     "name": "stdout",
     "output_type": "stream",
     "text": [
      "NoiseModel:\n",
      "  Basis gates: ['cx', 'id', 'rz', 'sx', 'u1', 'u2', 'u3']\n",
      "  Instructions with noise: ['u1', 'u2', 'u3']\n",
      "  Qubits with noise: [0]\n",
      "  Specific qubit errors: [('u1', (0,)), ('u2', (0,)), ('u3', (0,))]\n"
     ]
    }
   ],
   "source": [
    "# Create an empty noise model\n",
    "noise_model = NoiseModel()\n",
    "\n",
    "# Add depolarizing error to all single qubit u1, u2, u3 gates on qubit 0 only\n",
    "error = depolarizing_error(0.05, 1)\n",
    "noise_model.add_quantum_error(error, ['u1', 'u2', 'u3'], [0])\n",
    "\n",
    "# Print noise model info\n",
    "print(noise_model)"
   ]
  },
  {
   "cell_type": "markdown",
   "id": "0c056b49",
   "metadata": {},
   "source": [
    "### Non-local qubit quantum error\n",
    "\n",
    "This applies an error to a specific set of noise qubits after any occurrence of an instruction acting on a specific of gate qubits.\n",
    "\n",
    "It is added as `noise_model.add_nonlocal_quantum_error(error, instructions, instr_qubits, error_qubits)`:"
   ]
  },
  {
   "cell_type": "code",
   "execution_count": 10,
   "id": "c3cf7712",
   "metadata": {},
   "outputs": [
    {
     "name": "stdout",
     "output_type": "stream",
     "text": [
      "NoiseModel:\n",
      "  Basis gates: ['cx', 'id', 'rz', 'sx', 'u1', 'u2', 'u3']\n",
      "  Instructions with noise: ['u1', 'u2', 'u3']\n",
      "  Qubits with noise: [0, 2]\n",
      "  Non-local specific qubit errors: [('u1', (0,), (2,)), ('u2', (0,), (2,)), ('u3', (0,), (2,))]\n"
     ]
    }
   ],
   "source": [
    "# Create an empty noise model\n",
    "noise_model = NoiseModel()\n",
    "\n",
    "# Add depolarizing error on qubit 2 forall single qubit u1, u2, u3 gates on qubit 0 \n",
    "error = depolarizing_error(0.05, 1)\n",
    "noise_model.add_nonlocal_quantum_error(error, ['u1', 'u2', 'u3'], [0], [2])\n",
    "\n",
    "# Print noise model info\n",
    "print(noise_model)"
   ]
  },
  {
   "cell_type": "markdown",
   "id": "b91fc297",
   "metadata": {},
   "source": [
    "### Executing a noisy simulation with a noise model\n",
    "\n",
    "The command `AerSimulator(noise_model=noise_model)` returns a simulator configured to the given noise model. In addition to setting the simulator's noise model, it also overrides the simulator's basis gates, according to the gates of the noise model.\n",
    "\n",
    "We will now try some examples of noise models. For our demonstrations we will use a simple test circuit generating a n-qubit GHZ state:"
   ]
  },
  {
   "cell_type": "code",
   "execution_count": 11,
   "id": "37b8f448",
   "metadata": {},
   "outputs": [
    {
     "name": "stdout",
     "output_type": "stream",
     "text": [
      "        ┌───┐                ░ ┌─┐         \n",
      "   q_0: ┤ H ├──■─────────────░─┤M├─────────\n",
      "        └───┘┌─┴─┐           ░ └╥┘┌─┐      \n",
      "   q_1: ─────┤ X ├──■────────░──╫─┤M├──────\n",
      "             └───┘┌─┴─┐      ░  ║ └╥┘┌─┐   \n",
      "   q_2: ──────────┤ X ├──■───░──╫──╫─┤M├───\n",
      "                  └───┘┌─┴─┐ ░  ║  ║ └╥┘┌─┐\n",
      "   q_3: ───────────────┤ X ├─░──╫──╫──╫─┤M├\n",
      "                       └───┘ ░  ║  ║  ║ └╥┘\n",
      "meas_0: ════════════════════════╩══╬══╬══╬═\n",
      "                                   ║  ║  ║ \n",
      "meas_1: ═══════════════════════════╩══╬══╬═\n",
      "                                      ║  ║ \n",
      "meas_2: ══════════════════════════════╩══╬═\n",
      "                                         ║ \n",
      "meas_3: ═════════════════════════════════╩═\n",
      "                                           \n"
     ]
    }
   ],
   "source": [
    "# System Specification\n",
    "n_qubits = 4\n",
    "circ = QuantumCircuit(n_qubits)\n",
    "\n",
    "# Test Circuit\n",
    "circ.h(0)\n",
    "for qubit in range(n_qubits - 1):\n",
    "    circ.cx(qubit, qubit + 1)\n",
    "circ.measure_all()\n",
    "print(circ)"
   ]
  },
  {
   "cell_type": "markdown",
   "id": "c4a00a55",
   "metadata": {},
   "source": [
    "### Ideal Simulation\n"
   ]
  },
  {
   "cell_type": "code",
   "execution_count": 12,
   "id": "1e36613b",
   "metadata": {},
   "outputs": [
    {
     "data": {
      "image/png": "[encoded data removed]",
      "text/plain": [
       "<Figure size 700x500 with 1 Axes>"
      ]
     },
     "execution_count": 12,
     "metadata": {},
     "output_type": "execute_result"
    }
   ],
   "source": [
    "sim_ideal = AerSimulator()\n",
    "result_ideal = sim_ideal.run(circ).result()\n",
    "plot_histogram(result_ideal.get_counts(0))"
   ]
  },
  {
   "cell_type": "markdown",
   "id": "4c0cbf60",
   "metadata": {},
   "source": [
    "## Noise Example 1: Basic bit-flip error noise model\n",
    "\n",
    "Lets consider a simple toy noise model example common in quantum information theory research:\n",
    "\n",
    "* When applying a single qubit gate, flip the state of the qubit with probability `p_gate1`.\n",
    "* When applying a 2-qubit gate apply single-qubit errors to each qubit.\n",
    "* When resetting a qubit reset to 1 instead of 0 with probability `p_reset`.\n",
    "* When measuring a qubit, flip the state of the qubit with probability `p_meas`."
   ]
  },
  {
   "cell_type": "code",
   "execution_count": 14,
   "id": "54e4918c",
   "metadata": {},
   "outputs": [
    {
     "name": "stdout",
     "output_type": "stream",
     "text": [
      "NoiseModel:\n",
      "  Basis gates: ['cx', 'id', 'rz', 'sx', 'u1', 'u2', 'u3']\n",
      "  Instructions with noise: ['reset', 'measure', 'u1', 'u3', 'cx', 'u2']\n",
      "  All-qubits errors: ['reset', 'measure', 'u1', 'u2', 'u3', 'cx']\n"
     ]
    }
   ],
   "source": [
    "# Example error probabilities\n",
    "p_reset = 0.03\n",
    "p_meas = 0.1\n",
    "p_gate1 = 0.05\n",
    "\n",
    "# QuantumError objects\n",
    "error_reset = pauli_error([('X', p_reset), ('I', 1 - p_reset)])\n",
    "error_meas = pauli_error([('X',p_meas), ('I', 1 - p_meas)])\n",
    "error_gate1 = pauli_error([('X',p_gate1), ('I', 1 - p_gate1)])\n",
    "error_gate2 = error_gate1.tensor(error_gate1)\n",
    "\n",
    "# Add errors to noise model\n",
    "noise_bit_flip = NoiseModel()\n",
    "noise_bit_flip.add_all_qubit_quantum_error(error_reset, \"reset\")\n",
    "noise_bit_flip.add_all_qubit_quantum_error(error_meas, \"measure\")\n",
    "noise_bit_flip.add_all_qubit_quantum_error(error_gate1, [\"u1\", \"u2\", \"u3\"])\n",
    "noise_bit_flip.add_all_qubit_quantum_error(error_gate2, [\"cx\"])\n",
    "\n",
    "print(noise_bit_flip)"
   ]
  },
  {
   "cell_type": "markdown",
   "id": "8e296bbe",
   "metadata": {},
   "source": [
    "### Executing the noisy simulation"
   ]
  },
  {
   "cell_type": "code",
   "execution_count": 15,
   "id": "37f15be5",
   "metadata": {},
   "outputs": [
    {
     "data": {
      "image/png": "[encoded data removed]",
      "text/plain": [
       "<Figure size 700x500 with 1 Axes>"
      ]
     },
     "execution_count": 15,
     "metadata": {},
     "output_type": "execute_result"
    }
   ],
   "source": [
    "# Create noisy simulator backend\n",
    "sim_noise = AerSimulator(noise_model=noise_bit_flip)\n",
    "\n",
    "# Transpile circuit for noisy basis gates\n",
    "circ_tnoise = transpile(circ, sim_noise)\n",
    "\n",
    "# Run and get counts\n",
    "result_bit_flip = sim_noise.run(circ_tnoise).result()\n",
    "counts_bit_flip = result_bit_flip.get_counts(0)\n",
    "\n",
    "# Plot noisy output\n",
    "plot_histogram(counts_bit_flip)"
   ]
  },
  {
   "cell_type": "markdown",
   "id": "40df9d1c",
   "metadata": {},
   "source": [
    "## Device backend noise model simulations\n",
    "Here we show how to use the Qiskit Aer `noise` module to automatically generate a basic noise model for an IBMQ hardware device, and use this model to do noisy simulations of `QuantumCircuits` to study the effects of errors which occur on real devices.\n",
    "\n",
    "Note, that these automatic models are only an *approximation* of the real errors that occur on actual devices, due to the fact that they must be build from a limited set of input parameters related to *average error rates* on gates. The study of quantum errors on real devices is an active area of research and we discuss the Qiskit Aer tools for configuring more detailed noise models in another notebook.\n",
    "\n"
   ]
  },
  {
   "cell_type": "markdown",
   "id": "4ebedbaf",
   "metadata": {},
   "source": [
    "## Device Backend Noise Model\n",
    "\n",
    "The *Qiskit Aer* device noise model automatically generates a simplified noise model for a real device. This model is generated using the calibration information reported in the `BackendProperties` of a device and takes into account\n",
    "\n",
    "* The *gate_error* probability of each basis gate on each qubit.\n",
    "* The *gate_length* of each basis gate on each qubit.\n",
    "* The $T_1$, $T_2$ relaxation time constants of each qubit.\n",
    "* The readout error probability of each qubit.\n",
    "\n",
    "### Terra Mock  Backends\n",
    "\n",
    "We will use real noise data for an IBM Quantum device using the data stored in Qiskit Terra. Specifically, in this tutorial, the device is `ibmq_vigo`.\n",
    "\n",
    "\n"
   ]
  },
  {
   "cell_type": "code",
   "execution_count": 16,
   "id": "3884d140",
   "metadata": {},
   "outputs": [
    {
     "name": "stderr",
     "output_type": "stream",
     "text": [
      "/var/folders/sm/1d0rxbz57bx0_9fjrdq9bf9m0000gn/T/ipykernel_10675/2824264103.py:2: DeprecationWarning: The module 'qiskit.test.mock' is deprecated since Qiskit Terra 0.21.0, and will be removed 3 months or more later. Instead, you should import the desired object directly 'qiskit.providers.fake_provider'.\n",
      "  from qiskit.test.mock import FakeGeneva, FakeGeneva\n"
     ]
    }
   ],
   "source": [
    "from qiskit import IBMQ, transpile\n",
    "from qiskit.test.mock import FakeGeneva, FakeGeneva\n",
    "device_backend = FakeGeneva()"
   ]
  },
  {
   "cell_type": "code",
   "execution_count": 17,
   "id": "c93943de",
   "metadata": {},
   "outputs": [],
   "source": [
    "#https://qiskit.org/documentation/_modules/qiskit/providers/fake_provider/fake_provider.html\n",
    "from qiskit.providers.fake_provider import FakeGeneva, FakeVigo\n",
    "device_backend = FakeVigo()"
   ]
  },
  {
   "cell_type": "markdown",
   "id": "50101bcb",
   "metadata": {},
   "source": [
    "### Test circuit for device and simulation comparison\n",
    "\n",
    "Now we construct a test circuit to compare the output of the real device with the noisy output simulated on the Qiskit Aer `AerSimulator`. We will prepare a 3-qubit GHZ state $\\frac{1}{\\sqrt2}(|0,0,0\\rangle + |1,1,1\\rangle)$ on qubits 0, 1 and 2. Before running with noise or on the device we show the ideal expected output with no noise."
   ]
  },
  {
   "cell_type": "code",
   "execution_count": 21,
   "id": "217cb123",
   "metadata": {},
   "outputs": [
    {
     "name": "stderr",
     "output_type": "stream",
     "text": [
      "/opt/homebrew/Caskroom/miniforge/base/envs/qiskit_trieste22/lib/python3.9/site-packages/numpy/linalg/linalg.py:2154: RuntimeWarning: divide by zero encountered in det\n",
      "  r = _umath_linalg.det(a, signature=signature)\n",
      "/opt/homebrew/Caskroom/miniforge/base/envs/qiskit_trieste22/lib/python3.9/site-packages/numpy/linalg/linalg.py:2154: RuntimeWarning: invalid value encountered in det\n",
      "  r = _umath_linalg.det(a, signature=signature)\n"
     ]
    },
    {
     "data": {
      "image/png": "[encoded data removed]",
      "text/plain": [
       "<Figure size 700x500 with 1 Axes>"
      ]
     },
     "execution_count": 21,
     "metadata": {},
     "output_type": "execute_result"
    }
   ],
   "source": [
    "# Construct quantum circuit\n",
    "circ = QuantumCircuit(4, 4)\n",
    "circ.h(0)\n",
    "circ.cx(0, 1)\n",
    "circ.cx(1, 2)\n",
    "circ.cx(2,3)\n",
    "circ.measure([0, 1, 2,3], [0, 1, 2,3])\n",
    "\n",
    "sim_ideal = AerSimulator()\n",
    "\n",
    "# Execute and get counts\n",
    "result = sim_ideal.run(transpile(circ, sim_ideal)).result()\n",
    "counts = result.get_counts(0)\n",
    "plot_histogram(counts, title='Ideal counts for 4-qubit GHZ state')"
   ]
  },
  {
   "cell_type": "markdown",
   "id": "ba395b5c",
   "metadata": {},
   "source": [
    "Let's generate a simulator that mimics a device"
   ]
  },
  {
   "cell_type": "code",
   "execution_count": 19,
   "id": "f5176e57",
   "metadata": {},
   "outputs": [],
   "source": [
    "#Be aware that v2 backend are not supported\n",
    "sim_vigo = AerSimulator.from_backend(device_backend)"
   ]
  },
  {
   "cell_type": "markdown",
   "id": "2ec1d1f4",
   "metadata": {},
   "source": [
    "By storing the device properties in `vigo_simulator`, we ensure that the appropriate basis gates and coupling map are used when compiling circuits for simulation, thereby most closely mimicking the gates that will be executed on a real device. In addition `vigo_simulator` contains an approximate noise model consisting of:\n",
    "\n",
    "* **Single-qubit gate errors** consisting of a single qubit depolarizing error followed by a single qubit thermal relaxation error.\n",
    "* **Two-qubit gate errors** consisting of a two-qubit depolarizing error followed by single-qubit thermal relaxation errors on both qubits in the gate.\n",
    "* **Single-qubit readout errors** on the classical bit value obtained from measurements on individual qubits.\n",
    "\n",
    "For the gate errors the error parameter of the thermal relaxation errors is derived using the `thermal_relaxation_error` function from `aer.noise.errors` module, along with the individual qubit $T_1$ and $T_2$ parameters, and the `gate_time` parameter from the device backend properties. The probability of the depolarizing error is then set so that the combined average gate infidelity from the depolarizing error followed by the thermal relaxation is equal to the `gate_error` value from the backend properties.\n",
    "\n",
    "For the readout errors the probability that the recorded classical bit value will be flipped from the true outcome after a measurement is given by the qubit `readout_errors`.\n",
    "\n",
    "**Important:** When running noisy simulations it is *critical* to `transpile` the circuit for the backend so that the circuit is transpiled to the correct noisy basis gate set for the backend. If transpilation is skipped noise from the device noise model will not be applied to gates in the circuit that are supported by the simulator, but not supported by the mimicked backend."
   ]
  },
  {
   "cell_type": "code",
   "execution_count": 22,
   "id": "3252d302",
   "metadata": {},
   "outputs": [
    {
     "data": {
      "image/png": "[encoded data removed]",
      "text/plain": [
       "<Figure size 700x500 with 1 Axes>"
      ]
     },
     "execution_count": 22,
     "metadata": {},
     "output_type": "execute_result"
    }
   ],
   "source": [
    "# Transpile the circuit for the noisy basis gates\n",
    "tcirc = transpile(circ, sim_vigo)\n",
    "\n",
    "# Execute noisy simulation and get counts\n",
    "result_noise = sim_vigo.run(tcirc).result()\n",
    "counts_noise = result_noise.get_counts(0)\n",
    "plot_histogram(counts_noise,\n",
    "               title=\"Counts for 4-qubit GHZ state with device noise model\")"
   ]
  },
  {
   "cell_type": "markdown",
   "id": "327cb0e3",
   "metadata": {},
   "source": [
    "## Mitigating readout errors "
   ]
  },
  {
   "cell_type": "markdown",
   "id": "a2b09842",
   "metadata": {},
   "source": [
    "The qiskit experiment package also has measurement filters that can be used to mitigate various types of errors, such as ****measurements and tensors****.\n",
    "The `measurement calibration` is what we will use to mitigate measurement errors in this section. The process begins by first generating a list of circuits, where each circuit represents each of all the possible states of the qubits specified, then executing the circuits on an ideal simulator, the results of which we will then pass into a measurement filter. The `measurement filter` will then be used to mitigate the measurement errors.\n",
    "\n",
    "The process of measurement error mitigation can also be done using tools from Qiskit. This handles the collection of data for the basis states, the construction of the matrices and the calculation of the inverse. The latter can be done using the pseudo inverse, as we saw above. However, the default is an even more sophisticated method using least squares fitting."
   ]
  },
  {
   "cell_type": "code",
   "execution_count": 23,
   "id": "44a30c3f",
   "metadata": {},
   "outputs": [],
   "source": [
    "from qiskit.utils.mitigation import complete_meas_cal, CompleteMeasFitter"
   ]
  },
  {
   "cell_type": "code",
   "execution_count": 34,
   "id": "91177236",
   "metadata": {},
   "outputs": [
    {
     "name": "stdout",
     "output_type": "stream",
     "text": [
      "Circuit mcalcal_0000\n",
      "         ░ ┌─┐         \n",
      "q109_0: ─░─┤M├─────────\n",
      "         ░ └╥┘┌─┐      \n",
      "q109_1: ─░──╫─┤M├──────\n",
      "         ░  ║ └╥┘┌─┐   \n",
      "q109_2: ─░──╫──╫─┤M├───\n",
      "         ░  ║  ║ └╥┘┌─┐\n",
      "q109_3: ─░──╫──╫──╫─┤M├\n",
      "         ░  ║  ║  ║ └╥┘\n",
      "  c1_0: ════╩══╬══╬══╬═\n",
      "               ║  ║  ║ \n",
      "  c1_1: ═══════╩══╬══╬═\n",
      "                  ║  ║ \n",
      "  c1_2: ══════════╩══╬═\n",
      "                     ║ \n",
      "  c1_3: ═════════════╩═\n",
      "                       \n",
      "\n",
      "Circuit mcalcal_0001\n",
      "        ┌───┐ ░ ┌─┐         \n",
      "q109_0: ┤ X ├─░─┤M├─────────\n",
      "        └───┘ ░ └╥┘┌─┐      \n",
      "q109_1: ──────░──╫─┤M├──────\n",
      "              ░  ║ └╥┘┌─┐   \n",
      "q109_2: ──────░──╫──╫─┤M├───\n",
      "              ░  ║  ║ └╥┘┌─┐\n",
      "q109_3: ──────░──╫──╫──╫─┤M├\n",
      "              ░  ║  ║  ║ └╥┘\n",
      "  c1_0: ═════════╩══╬══╬══╬═\n",
      "                    ║  ║  ║ \n",
      "  c1_1: ════════════╩══╬══╬═\n",
      "                       ║  ║ \n",
      "  c1_2: ═══════════════╩══╬═\n",
      "                          ║ \n",
      "  c1_3: ══════════════════╩═\n",
      "                            \n",
      "\n",
      "Circuit mcalcal_0010\n",
      "              ░ ┌─┐         \n",
      "q109_0: ──────░─┤M├─────────\n",
      "        ┌───┐ ░ └╥┘┌─┐      \n",
      "q109_1: ┤ X ├─░──╫─┤M├──────\n",
      "        └───┘ ░  ║ └╥┘┌─┐   \n",
      "q109_2: ──────░──╫──╫─┤M├───\n",
      "              ░  ║  ║ └╥┘┌─┐\n",
      "q109_3: ──────░──╫──╫──╫─┤M├\n",
      "              ░  ║  ║  ║ └╥┘\n",
      "  c1_0: ═════════╩══╬══╬══╬═\n",
      "                    ║  ║  ║ \n",
      "  c1_1: ════════════╩══╬══╬═\n",
      "                       ║  ║ \n",
      "  c1_2: ═══════════════╩══╬═\n",
      "                          ║ \n",
      "  c1_3: ══════════════════╩═\n",
      "                            \n",
      "\n",
      "Circuit mcalcal_0011\n",
      "        ┌───┐ ░ ┌─┐         \n",
      "q109_0: ┤ X ├─░─┤M├─────────\n",
      "        ├───┤ ░ └╥┘┌─┐      \n",
      "q109_1: ┤ X ├─░──╫─┤M├──────\n",
      "        └───┘ ░  ║ └╥┘┌─┐   \n",
      "q109_2: ──────░──╫──╫─┤M├───\n",
      "              ░  ║  ║ └╥┘┌─┐\n",
      "q109_3: ──────░──╫──╫──╫─┤M├\n",
      "              ░  ║  ║  ║ └╥┘\n",
      "  c1_0: ═════════╩══╬══╬══╬═\n",
      "                    ║  ║  ║ \n",
      "  c1_1: ════════════╩══╬══╬═\n",
      "                       ║  ║ \n",
      "  c1_2: ═══════════════╩══╬═\n",
      "                          ║ \n",
      "  c1_3: ══════════════════╩═\n",
      "                            \n",
      "\n",
      "Circuit mcalcal_0100\n",
      "              ░ ┌─┐         \n",
      "q109_0: ──────░─┤M├─────────\n",
      "              ░ └╥┘┌─┐      \n",
      "q109_1: ──────░──╫─┤M├──────\n",
      "        ┌───┐ ░  ║ └╥┘┌─┐   \n",
      "q109_2: ┤ X ├─░──╫──╫─┤M├───\n",
      "        └───┘ ░  ║  ║ └╥┘┌─┐\n",
      "q109_3: ──────░──╫──╫──╫─┤M├\n",
      "              ░  ║  ║  ║ └╥┘\n",
      "  c1_0: ═════════╩══╬══╬══╬═\n",
      "                    ║  ║  ║ \n",
      "  c1_1: ════════════╩══╬══╬═\n",
      "                       ║  ║ \n",
      "  c1_2: ═══════════════╩══╬═\n",
      "                          ║ \n",
      "  c1_3: ══════════════════╩═\n",
      "                            \n",
      "\n",
      "Circuit mcalcal_0101\n",
      "        ┌───┐ ░ ┌─┐         \n",
      "q109_0: ┤ X ├─░─┤M├─────────\n",
      "        └───┘ ░ └╥┘┌─┐      \n",
      "q109_1: ──────░──╫─┤M├──────\n",
      "        ┌───┐ ░  ║ └╥┘┌─┐   \n",
      "q109_2: ┤ X ├─░──╫──╫─┤M├───\n",
      "        └───┘ ░  ║  ║ └╥┘┌─┐\n",
      "q109_3: ──────░──╫──╫──╫─┤M├\n",
      "              ░  ║  ║  ║ └╥┘\n",
      "  c1_0: ═════════╩══╬══╬══╬═\n",
      "                    ║  ║  ║ \n",
      "  c1_1: ════════════╩══╬══╬═\n",
      "                       ║  ║ \n",
      "  c1_2: ═══════════════╩══╬═\n",
      "                          ║ \n",
      "  c1_3: ══════════════════╩═\n",
      "                            \n",
      "\n",
      "Circuit mcalcal_0110\n",
      "              ░ ┌─┐         \n",
      "q109_0: ──────░─┤M├─────────\n",
      "        ┌───┐ ░ └╥┘┌─┐      \n",
      "q109_1: ┤ X ├─░──╫─┤M├──────\n",
      "        ├───┤ ░  ║ └╥┘┌─┐   \n",
      "q109_2: ┤ X ├─░──╫──╫─┤M├───\n",
      "        └───┘ ░  ║  ║ └╥┘┌─┐\n",
      "q109_3: ──────░──╫──╫──╫─┤M├\n",
      "              ░  ║  ║  ║ └╥┘\n",
      "  c1_0: ═════════╩══╬══╬══╬═\n",
      "                    ║  ║  ║ \n",
      "  c1_1: ════════════╩══╬══╬═\n",
      "                       ║  ║ \n",
      "  c1_2: ═══════════════╩══╬═\n",
      "                          ║ \n",
      "  c1_3: ══════════════════╩═\n",
      "                            \n",
      "\n",
      "Circuit mcalcal_0111\n",
      "        ┌───┐ ░ ┌─┐         \n",
      "q109_0: ┤ X ├─░─┤M├─────────\n",
      "        ├───┤ ░ └╥┘┌─┐      \n",
      "q109_1: ┤ X ├─░──╫─┤M├──────\n",
      "        ├───┤ ░  ║ └╥┘┌─┐   \n",
      "q109_2: ┤ X ├─░──╫──╫─┤M├───\n",
      "        └───┘ ░  ║  ║ └╥┘┌─┐\n",
      "q109_3: ──────░──╫──╫──╫─┤M├\n",
      "              ░  ║  ║  ║ └╥┘\n",
      "  c1_0: ═════════╩══╬══╬══╬═\n",
      "                    ║  ║  ║ \n",
      "  c1_1: ════════════╩══╬══╬═\n",
      "                       ║  ║ \n",
      "  c1_2: ═══════════════╩══╬═\n",
      "                          ║ \n",
      "  c1_3: ══════════════════╩═\n",
      "                            \n",
      "\n",
      "Circuit mcalcal_1000\n",
      "              ░ ┌─┐         \n",
      "q109_0: ──────░─┤M├─────────\n",
      "              ░ └╥┘┌─┐      \n",
      "q109_1: ──────░──╫─┤M├──────\n",
      "              ░  ║ └╥┘┌─┐   \n",
      "q109_2: ──────░──╫──╫─┤M├───\n",
      "        ┌───┐ ░  ║  ║ └╥┘┌─┐\n",
      "q109_3: ┤ X ├─░──╫──╫──╫─┤M├\n",
      "        └───┘ ░  ║  ║  ║ └╥┘\n",
      "  c1_0: ═════════╩══╬══╬══╬═\n",
      "                    ║  ║  ║ \n",
      "  c1_1: ════════════╩══╬══╬═\n",
      "                       ║  ║ \n",
      "  c1_2: ═══════════════╩══╬═\n",
      "                          ║ \n",
      "  c1_3: ══════════════════╩═\n",
      "                            \n",
      "\n",
      "Circuit mcalcal_1001\n",
      "        ┌───┐ ░ ┌─┐         \n",
      "q109_0: ┤ X ├─░─┤M├─────────\n",
      "        └───┘ ░ └╥┘┌─┐      \n",
      "q109_1: ──────░──╫─┤M├──────\n",
      "              ░  ║ └╥┘┌─┐   \n",
      "q109_2: ──────░──╫──╫─┤M├───\n",
      "        ┌───┐ ░  ║  ║ └╥┘┌─┐\n",
      "q109_3: ┤ X ├─░──╫──╫──╫─┤M├\n",
      "        └───┘ ░  ║  ║  ║ └╥┘\n",
      "  c1_0: ═════════╩══╬══╬══╬═\n",
      "                    ║  ║  ║ \n",
      "  c1_1: ════════════╩══╬══╬═\n",
      "                       ║  ║ \n",
      "  c1_2: ═══════════════╩══╬═\n",
      "                          ║ \n",
      "  c1_3: ══════════════════╩═\n",
      "                            \n",
      "\n",
      "Circuit mcalcal_1010\n",
      "              ░ ┌─┐         \n",
      "q109_0: ──────░─┤M├─────────\n",
      "        ┌───┐ ░ └╥┘┌─┐      \n",
      "q109_1: ┤ X ├─░──╫─┤M├──────\n",
      "        └───┘ ░  ║ └╥┘┌─┐   \n",
      "q109_2: ──────░──╫──╫─┤M├───\n",
      "        ┌───┐ ░  ║  ║ └╥┘┌─┐\n",
      "q109_3: ┤ X ├─░──╫──╫──╫─┤M├\n",
      "        └───┘ ░  ║  ║  ║ └╥┘\n",
      "  c1_0: ═════════╩══╬══╬══╬═\n",
      "                    ║  ║  ║ \n",
      "  c1_1: ════════════╩══╬══╬═\n",
      "                       ║  ║ \n",
      "  c1_2: ═══════════════╩══╬═\n",
      "                          ║ \n",
      "  c1_3: ══════════════════╩═\n",
      "                            \n",
      "\n",
      "Circuit mcalcal_1011\n",
      "        ┌───┐ ░ ┌─┐         \n",
      "q109_0: ┤ X ├─░─┤M├─────────\n",
      "        ├───┤ ░ └╥┘┌─┐      \n",
      "q109_1: ┤ X ├─░──╫─┤M├──────\n",
      "        └───┘ ░  ║ └╥┘┌─┐   \n",
      "q109_2: ──────░──╫──╫─┤M├───\n",
      "        ┌───┐ ░  ║  ║ └╥┘┌─┐\n",
      "q109_3: ┤ X ├─░──╫──╫──╫─┤M├\n",
      "        └───┘ ░  ║  ║  ║ └╥┘\n",
      "  c1_0: ═════════╩══╬══╬══╬═\n",
      "                    ║  ║  ║ \n",
      "  c1_1: ════════════╩══╬══╬═\n",
      "                       ║  ║ \n",
      "  c1_2: ═══════════════╩══╬═\n",
      "                          ║ \n",
      "  c1_3: ══════════════════╩═\n",
      "                            \n",
      "\n",
      "Circuit mcalcal_1100\n",
      "              ░ ┌─┐         \n",
      "q109_0: ──────░─┤M├─────────\n",
      "              ░ └╥┘┌─┐      \n",
      "q109_1: ──────░──╫─┤M├──────\n",
      "        ┌───┐ ░  ║ └╥┘┌─┐   \n",
      "q109_2: ┤ X ├─░──╫──╫─┤M├───\n",
      "        ├───┤ ░  ║  ║ └╥┘┌─┐\n",
      "q109_3: ┤ X ├─░──╫──╫──╫─┤M├\n",
      "        └───┘ ░  ║  ║  ║ └╥┘\n",
      "  c1_0: ═════════╩══╬══╬══╬═\n",
      "                    ║  ║  ║ \n",
      "  c1_1: ════════════╩══╬══╬═\n",
      "                       ║  ║ \n",
      "  c1_2: ═══════════════╩══╬═\n",
      "                          ║ \n",
      "  c1_3: ══════════════════╩═\n",
      "                            \n",
      "\n",
      "Circuit mcalcal_1101\n",
      "        ┌───┐ ░ ┌─┐         \n",
      "q109_0: ┤ X ├─░─┤M├─────────\n",
      "        └───┘ ░ └╥┘┌─┐      \n",
      "q109_1: ──────░──╫─┤M├──────\n",
      "        ┌───┐ ░  ║ └╥┘┌─┐   \n",
      "q109_2: ┤ X ├─░──╫──╫─┤M├───\n",
      "        ├───┤ ░  ║  ║ └╥┘┌─┐\n",
      "q109_3: ┤ X ├─░──╫──╫──╫─┤M├\n",
      "        └───┘ ░  ║  ║  ║ └╥┘\n",
      "  c1_0: ═════════╩══╬══╬══╬═\n",
      "                    ║  ║  ║ \n",
      "  c1_1: ════════════╩══╬══╬═\n",
      "                       ║  ║ \n",
      "  c1_2: ═══════════════╩══╬═\n",
      "                          ║ \n",
      "  c1_3: ══════════════════╩═\n",
      "                            \n",
      "\n",
      "Circuit mcalcal_1110\n",
      "              ░ ┌─┐         \n",
      "q109_0: ──────░─┤M├─────────\n",
      "        ┌───┐ ░ └╥┘┌─┐      \n",
      "q109_1: ┤ X ├─░──╫─┤M├──────\n",
      "        ├───┤ ░  ║ └╥┘┌─┐   \n",
      "q109_2: ┤ X ├─░──╫──╫─┤M├───\n",
      "        ├───┤ ░  ║  ║ └╥┘┌─┐\n",
      "q109_3: ┤ X ├─░──╫──╫──╫─┤M├\n",
      "        └───┘ ░  ║  ║  ║ └╥┘\n",
      "  c1_0: ═════════╩══╬══╬══╬═\n",
      "                    ║  ║  ║ \n",
      "  c1_1: ════════════╩══╬══╬═\n",
      "                       ║  ║ \n",
      "  c1_2: ═══════════════╩══╬═\n",
      "                          ║ \n",
      "  c1_3: ══════════════════╩═\n",
      "                            \n",
      "\n",
      "Circuit mcalcal_1111\n",
      "        ┌───┐ ░ ┌─┐         \n",
      "q109_0: ┤ X ├─░─┤M├─────────\n",
      "        ├───┤ ░ └╥┘┌─┐      \n",
      "q109_1: ┤ X ├─░──╫─┤M├──────\n",
      "        ├───┤ ░  ║ └╥┘┌─┐   \n",
      "q109_2: ┤ X ├─░──╫──╫─┤M├───\n",
      "        ├───┤ ░  ║  ║ └╥┘┌─┐\n",
      "q109_3: ┤ X ├─░──╫──╫──╫─┤M├\n",
      "        └───┘ ░  ║  ║  ║ └╥┘\n",
      "  c1_0: ═════════╩══╬══╬══╬═\n",
      "                    ║  ║  ║ \n",
      "  c1_1: ════════════╩══╬══╬═\n",
      "                       ║  ║ \n",
      "  c1_2: ═══════════════╩══╬═\n",
      "                          ║ \n",
      "  c1_3: ══════════════════╩═\n",
      "                            \n",
      "\n"
     ]
    }
   ],
   "source": [
    "from qiskit import QuantumRegister\n",
    "qr = QuantumRegister(4)\n",
    "meas_calibs, state_labels = complete_meas_cal(qr=qr, circlabel='mcal')\n",
    "for circuit in meas_calibs:\n",
    "    print('Circuit',circuit.name)\n",
    "    print(circuit)\n",
    "    print()"
   ]
  },
  {
   "cell_type": "code",
   "execution_count": 35,
   "id": "b2378be8",
   "metadata": {},
   "outputs": [],
   "source": [
    "# Execute the calibration circuits without noise\n",
    "from qiskit import Aer, assemble\n",
    "\n",
    "aer_sim = Aer.get_backend('aer_simulator')\n",
    "t_qc = transpile(meas_calibs, aer_sim)\n",
    "qobj = assemble(t_qc, shots=10000)\n",
    "cal_results = aer_sim.run(qobj, shots=10000).result()"
   ]
  },
  {
   "cell_type": "code",
   "execution_count": 36,
   "id": "bd50a7b9",
   "metadata": {},
   "outputs": [
    {
     "data": {
      "text/latex": [
       "$$\n",
       "\n",
       "\\begin{bmatrix}\n",
       "1 & 0 & 0 & 0 & \\cdots & 0 & 0 & 0  \\\\\n",
       " 0 & 1 & 0 & 0 & \\cdots & 0 & 0 & 0  \\\\\n",
       " 0 & 0 & 1 & 0 & \\cdots & 0 & 0 & 0  \\\\\n",
       " 0 & 0 & 0 & 1 & \\cdots & 0 & 0 & 0  \\\\\n",
       " \\vdots & \\vdots & \\vdots & \\vdots & \\ddots & \\vdots & \\vdots & \\vdots \\\\\n",
       " 0 & 0 & 0 & 0 & \\cdots & 1 & 0 & 0  \\\\\n",
       " 0 & 0 & 0 & 0 & \\cdots & 0 & 1 & 0  \\\\\n",
       " 0 & 0 & 0 & 0 & \\cdots & 0 & 0 & 1  \\\\\n",
       " \\end{bmatrix}\n",
       "$$"
      ],
      "text/plain": [
       "<IPython.core.display.Latex object>"
      ]
     },
     "execution_count": 36,
     "metadata": {},
     "output_type": "execute_result"
    }
   ],
   "source": [
    "##IDEAL Matrix\n",
    "from qiskit.visualization import array_to_latex\n",
    "\n",
    "meas_fitter = CompleteMeasFitter(cal_results, state_labels, circlabel='mcal')\n",
    "array_to_latex(meas_fitter.cal_matrix)"
   ]
  },
  {
   "cell_type": "code",
   "execution_count": 37,
   "id": "60cc5def",
   "metadata": {},
   "outputs": [
    {
     "data": {
      "text/latex": [
       "$$\n",
       "\n",
       "\\begin{bmatrix}\n",
       "0.8971 & 0.0699 & 0.0303 & 0.0024 & \\cdots & 0 & 0 & 0  \\\\\n",
       " 0.0723 & 0.895 & 0.0025 & 0.0331 & \\cdots & 0.0003 & 0 & 0  \\\\\n",
       " 0.0067 & 0.0004 & 0.8758 & 0.0686 & \\cdots & 0 & 0.0012 & 0  \\\\\n",
       " 0.0008 & 0.0101 & 0.069 & 0.8759 & \\cdots & 0 & 0.0001 & 0.0007  \\\\\n",
       " \\vdots & \\vdots & \\vdots & \\vdots & \\ddots & \\vdots & \\vdots & \\vdots \\\\\n",
       " 0 & 0.0002 & 0 & 0 & \\cdots & 0.8758 & 0.0034 & 0.0308  \\\\\n",
       " 0 & 0 & 0.0002 & 0 & \\cdots & 0.0003 & 0.8438 & 0.0707  \\\\\n",
       " 0 & 0 & 0 & 0.0001 & \\cdots & 0.0091 & 0.0689 & 0.8453  \\\\\n",
       " \\end{bmatrix}\n",
       "$$"
      ],
      "text/plain": [
       "<IPython.core.display.Latex object>"
      ]
     },
     "execution_count": 37,
     "metadata": {},
     "output_type": "execute_result"
    }
   ],
   "source": [
    "t_qc = transpile(meas_calibs, sim_vigo)\n",
    "\n",
    "qobj = assemble(t_qc, shots=10000)\n",
    "#cal_results = sim_vigo.run(qobj, noise_model=noise_model, shots=10000).result()\n",
    "cal_results = sim_vigo.run(qobj, shots=10000).result()\n",
    "\n",
    "\n",
    "meas_fitter = CompleteMeasFitter(cal_results, state_labels, circlabel='mcal')\n",
    "array_to_latex(meas_fitter.cal_matrix)"
   ]
  },
  {
   "cell_type": "code",
   "execution_count": 38,
   "id": "7c9f6465",
   "metadata": {},
   "outputs": [],
   "source": [
    "# Get the filter object\n",
    "meas_filter = meas_fitter.filter\n",
    "\n",
    "# Results with mitigation\n",
    "mitigated_results = meas_filter.apply(result_noise)\n",
    "mitigated_counts = mitigated_results.get_counts()"
   ]
  },
  {
   "cell_type": "code",
   "execution_count": 39,
   "id": "d962232c",
   "metadata": {},
   "outputs": [
    {
     "data": {
      "image/png": "[encoded data removed]",
      "text/plain": [
       "<Figure size 700x500 with 1 Axes>"
      ]
     },
     "execution_count": 39,
     "metadata": {},
     "output_type": "execute_result"
    }
   ],
   "source": [
    "from qiskit.visualization import plot_histogram \n",
    "\n",
    "plot_histogram([counts_noise, mitigated_counts], legend=['noisy', 'mitigated'])"
   ]
  },
  {
   "cell_type": "code",
   "execution_count": null,
   "id": "13c799d0",
   "metadata": {},
   "outputs": [],
   "source": []
  }
 ],
 "metadata": {
  "celltoolbar": "Slideshow",
  "kernelspec": {
   "display_name": "Python 3 (ipykernel)",
   "language": "python",
   "name": "python3"
  },
  "language_info": {
   "codemirror_mode": {
    "name": "ipython",
    "version": 3
   },
   "file_extension": ".py",
   "mimetype": "text/x-python",
   "name": "python",
   "nbconvert_exporter": "python",
   "pygments_lexer": "ipython3",
   "version": "3.9.13"
  }
 },
 "nbformat": 4,
 "nbformat_minor": 5
}
