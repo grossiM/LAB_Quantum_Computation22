{
 "cells": [
  {
   "cell_type": "markdown",
   "id": "125bd72e",
   "metadata": {
    "slideshow": {
     "slide_type": "slide"
    }
   },
   "source": [
    "# Lecture 3\n",
    "<br>\n",
    "<br>\n",
    "\n",
    "You can find a copy of this presentation at\n",
    "https://github.com/grossiM/LAB_Quantum_Computation22/tree/main/Lezione_3\n",
    "\n",
    "michele.grossi@cern.ch"
   ]
  },
  {
   "cell_type": "code",
   "execution_count": null,
   "id": "d7430b7c",
   "metadata": {
    "slideshow": {
     "slide_type": "subslide"
    }
   },
   "outputs": [],
   "source": [
    "import qiskit.tools.jupyter\n",
    "%qiskit_version_table\n",
    "%qiskit_copyright"
   ]
  },
  {
   "cell_type": "markdown",
   "id": "0d0a1945",
   "metadata": {},
   "source": [
    "#### Measuring an observable\n",
    "\n",
    "What if we want to measure a specific observable (as an example `X^I`) on the prepared state?\n",
    "\n",
    "Qiskit gives the possibility to do so. The procedure at the moment is a little bit involved, but future release will simplify this.\n",
    "\n",
    "Additional resources here: https://qiskit.org/textbook/ch-labs/Lab02_QuantumMeasurement.html"
   ]
  },
  {
   "cell_type": "code",
   "execution_count": null,
   "id": "d5f078a3",
   "metadata": {},
   "outputs": [],
   "source": [
    "import qiskit\n",
    "from qiskit               import QuantumCircuit, QuantumRegister, ClassicalRegister, transpile, execute, Aer\n",
    "from qiskit.providers.aer import QasmSimulator, StatevectorSimulator\n",
    "from qiskit.visualization import plot_histogram"
   ]
  },
  {
   "cell_type": "code",
   "execution_count": null,
   "id": "09ffc3d0",
   "metadata": {},
   "outputs": [],
   "source": [
    "# Import Pauli operators (X, Y, Z) and the identity\n",
    "from qiskit.opflow import I, X, Y, Z, One, Zero\n",
    "\n",
    "from qiskit.opflow.state_fns    import CircuitStateFn\n",
    "from qiskit.opflow.expectations import PauliExpectation\n",
    "from qiskit.utils               import QuantumInstance\n",
    "from qiskit.opflow              import CircuitSampler, StateFn"
   ]
  },
  {
   "cell_type": "code",
   "execution_count": null,
   "id": "81a3fcf5",
   "metadata": {},
   "outputs": [],
   "source": [
    "# We need a backend (what will actually compute the expectation value)\n",
    "n_shots     = 1000\n",
    "backend     = QasmSimulator(shots=n_shots)#Aer.get_backend('statevector_simulator')\n",
    "# What type of expectation value do we want?\n",
    "expectation = PauliExpectation()\n",
    "# How we sample the bitstrings from the circuit\n",
    "sampler     = CircuitSampler(backend)"
   ]
  },
  {
   "cell_type": "code",
   "execution_count": null,
   "id": "0472347a",
   "metadata": {},
   "outputs": [],
   "source": [
    "## Create the observable\n",
    "ob = StateFn(X^I,is_measurement = True) #Remember that the order is from right to left (I on 0 and X on 1)\n",
    "\n",
    "# Compose the observable with the quantum circuit you want to measure\n",
    "qc_meas = QuantumCircuit(2)\n",
    "qc_meas.h(0)\n",
    "qc_meas.cx(0,1)\n",
    "qc_meas.cx(1,0)\n",
    "qc_meas.cx(0,1)\n",
    "\n",
    "measured_qc  = expectation.convert(ob @ StateFn(qc_meas))"
   ]
  },
  {
   "cell_type": "code",
   "execution_count": null,
   "id": "0ca0b352",
   "metadata": {},
   "outputs": [],
   "source": [
    "import numpy as np\n",
    "\n",
    "sampled_op = sampler.convert(measured_qc)\n",
    "#Compute mean value\n",
    "print(f\"Value: {sampled_op.eval().real} ± {np.sqrt(expectation.compute_variance(sampled_op).real)/n_shots}\")"
   ]
  },
  {
   "cell_type": "markdown",
   "id": "9e2d0280",
   "metadata": {},
   "source": [
    "## Variational Quantum Algorithms\n",
    "\n",
    "Variational Quantum Algorithms (VQA) use a classical optimizer to train a parameterized quantum circuit to approximate solutions for a given problem. \n",
    "\n",
    "VQA's typically need fewer gates and qubits. In turn, they are more resistant to noise.\n",
    "\n",
    "Therefore, they are well suited to handle near-term quantum computer constraints."
   ]
  },
  {
   "cell_type": "markdown",
   "id": "8cdacfd6",
   "metadata": {},
   "source": [
    "VQA's are typically iterative. Each iteration involves both quantum and classical processing. \n",
    "\n",
    "Output (a measurement) from one iteration is sent to the classical optimizer which generates input (a parameter) for the next iteration:\n",
    "\n",
    "<div>\n",
    "<img src=\"images/qva_loop.png\" width=\"600\" align=\"left\"/>\n",
    "</div>"
   ]
  },
  {
   "cell_type": "markdown",
   "id": "556d6a1b",
   "metadata": {},
   "source": [
    "## VQE - Study the Static\n",
    "\n",
    "The Variational Quantum Eigensolver (VQE) is a central algorithm in many applications, e.g. quantum chemistry or optimization.\n",
    "This tutorial shows you how to run the VQE as a Qiskit Runtime program. We'll start off by defining the algorithm settings, such as the Hamiltonian and ansatz, and then run a VQE both locally, on your machine, and remotely, using the Qiskit Runtime.\n",
    "\n",
    "**Note:** You can find tutorials on solving more comprehensive problems, such as finding the ground state of the lithium hydride molecule, using the VQE (and Qiskit Runtime) within [the tutorials of Qiskit Nature](https://github.com/Qiskit/qiskit-nature/tree/main/docs/tutorials)."
   ]
  },
  {
   "cell_type": "markdown",
   "id": "262c1f3f",
   "metadata": {},
   "source": [
    "## System Hamiltonian"
   ]
  },
  {
   "cell_type": "markdown",
   "id": "10009835",
   "metadata": {},
   "source": [
    "Let's start by defining the operator of which we want to determine the ground state. Here we'll chose a simple diagonal Hamiltonian $\\hat H$ acting with Pauli-Z operators on the first two qubits\n",
    "\n",
    "$$\n",
    "\\hat H = \\hat Z_0 \\otimes \\hat Z_1.\n",
    "$$\n",
    "\n",
    "We can construct this Hamiltonian with Qiskit's `opflow` module"
   ]
  },
  {
   "cell_type": "code",
   "execution_count": null,
   "id": "f895895f",
   "metadata": {},
   "outputs": [],
   "source": [
    "from qiskit.opflow import Z, I\n",
    "\n",
    "num_qubits = 4\n",
    "hamiltonian = (Z ^ Z) ^ (I ^ (num_qubits - 2))"
   ]
  },
  {
   "cell_type": "markdown",
   "id": "1311f430",
   "metadata": {},
   "source": [
    "This Hamiltonian has a ground state energy of -1."
   ]
  },
  {
   "cell_type": "code",
   "execution_count": null,
   "id": "1ace3712",
   "metadata": {},
   "outputs": [],
   "source": [
    "target_energy = -1"
   ]
  },
  {
   "cell_type": "markdown",
   "id": "d2e86195",
   "metadata": {},
   "source": [
    "## Parameterized Ansatz Circuit"
   ]
  },
  {
   "cell_type": "markdown",
   "id": "bd1439dc",
   "metadata": {},
   "source": [
    "Next, we choose a parameterized quantum circuit $\\hat U(\\theta)$ to prepare the ansatz wavefunction\n",
    "\n",
    "$$\n",
    "|\\psi(\\theta)\\rangle = \\hat U(\\theta)|0\\rangle.\n",
    "$$\n",
    "\n",
    "We'll use the `EfficientSU2` circuit from Qiskit's circuit library, which is a hardware efficient, heuristic ansatz with alternating rotation and entanglement layers."
   ]
  },
  {
   "cell_type": "code",
   "execution_count": null,
   "id": "deb866c1",
   "metadata": {},
   "outputs": [],
   "source": [
    "from qiskit.circuit.library import EfficientSU2\n",
    "\n",
    "# the rotation gates are chosen randomly, so we set a seed for reproducibility\n",
    "ansatz = EfficientSU2(num_qubits, reps=1, entanglement='linear', insert_barriers=True) \n",
    "ansatz.decompose().draw('mpl', style='iqx')"
   ]
  },
  {
   "cell_type": "markdown",
   "id": "de790add",
   "metadata": {},
   "source": [
    "## Solve with the VQE"
   ]
  },
  {
   "cell_type": "markdown",
   "id": "3e594ca0",
   "metadata": {},
   "source": [
    "Now that we have the problem and ansatz specified we can use the Variational Quantum Eigensolver (VQE) to solve for the minimal eigenvalue of our Hamiltonian.\n",
    "\n",
    "The VQE requires a classical optimization routine, along with an initial point, to calculate the parameter updates."
   ]
  },
  {
   "cell_type": "code",
   "execution_count": null,
   "id": "6d0f7a9b",
   "metadata": {},
   "outputs": [],
   "source": [
    "import numpy as np\n",
    "from qiskit.algorithms.optimizers import SPSA\n",
    "\n",
    "optimizer = SPSA(maxiter=50)\n",
    "\n",
    "np.random.seed(10)  # seed for reproducibility\n",
    "initial_point = np.random.random(ansatz.num_parameters)"
   ]
  },
  {
   "cell_type": "markdown",
   "id": "72696a3f",
   "metadata": {},
   "source": [
    "To access intermediate information we can pass a callback into the VQE. The callback is given the current number of function evaluations, the current parameters, function values and standard deviation in the expectation evaluation. "
   ]
  },
  {
   "cell_type": "code",
   "execution_count": null,
   "id": "6ee7f4e2",
   "metadata": {},
   "outputs": [],
   "source": [
    "intermediate_info = {\n",
    "    'nfev': [],\n",
    "    'parameters': [],\n",
    "    'energy': [],\n",
    "    'stddev': []\n",
    "}\n",
    "\n",
    "def callback(nfev, parameters, energy, stddev):\n",
    "    intermediate_info['nfev'].append(nfev)\n",
    "    intermediate_info['parameters'].append(parameters)\n",
    "    intermediate_info['energy'].append(energy)\n",
    "    intermediate_info['stddev'].append(stddev)"
   ]
  },
  {
   "cell_type": "markdown",
   "id": "d805e065",
   "metadata": {},
   "source": [
    "### Local VQE\n",
    "\n",
    "Let's first simulate this system locally using Qiskit's `VQE` class."
   ]
  },
  {
   "cell_type": "code",
   "execution_count": null,
   "id": "857d9236",
   "metadata": {},
   "outputs": [],
   "source": [
    "from qiskit.providers.basicaer import QasmSimulatorPy  # local simulator\n",
    "from qiskit.algorithms import VQE\n",
    "\n",
    "local_vqe = VQE(ansatz=ansatz,\n",
    "                optimizer=optimizer,\n",
    "                initial_point=initial_point,\n",
    "                quantum_instance=QasmSimulatorPy(),\n",
    "                callback=callback)"
   ]
  },
  {
   "cell_type": "code",
   "execution_count": null,
   "id": "cc3ffbb9",
   "metadata": {},
   "outputs": [],
   "source": [
    "local_result = local_vqe.compute_minimum_eigenvalue(hamiltonian)"
   ]
  },
  {
   "cell_type": "code",
   "execution_count": null,
   "id": "faebcd95",
   "metadata": {},
   "outputs": [],
   "source": [
    "print('Eigenvalue:', local_result.eigenvalue)\n",
    "print('Target:', target_energy)"
   ]
  },
  {
   "cell_type": "markdown",
   "id": "6ec1b736",
   "metadata": {},
   "source": [
    "With the information from the callback, we can for instance compute the average of the estimation errors in the expectation evaluations. For an exact (statevector) simulation this would be 0, but for a shot-based readout as we have on real hardware, this will be a small finite error."
   ]
  },
  {
   "cell_type": "code",
   "execution_count": null,
   "id": "42cc8f2e",
   "metadata": {},
   "outputs": [],
   "source": [
    "print('Mean error:', np.mean(intermediate_info['stddev']))"
   ]
  },
  {
   "cell_type": "markdown",
   "id": "45b72f6c",
   "metadata": {},
   "source": [
    "## ISING MODEL GROUND STATE CALCULATION\n",
    "The system under consideration is the Ising model with traverse field and fixed parameters. More specifically, the chain size is fixed to N = 4 and the Hamiltonian H is:\n",
    "\n",
    "\n",
    "$$\n",
    "\\mathcal{H} = -  J \\sum_{i,j}^N \\hat{s}_{z}^{(i)}\\hat{s}_{z}^{(j)} + h \\sum_{i}^N \\hat{s}_{x}^{(i)}\n",
    "$$\n",
    "\n",
    "for $h = J = 1$, and where $\\hat{s}_{x}$ and $\\hat{s}_{z}$ are the respective Pauli operators applied to the i-th qubit."
   ]
  },
  {
   "cell_type": "code",
   "execution_count": null,
   "id": "fef28b32",
   "metadata": {},
   "outputs": [],
   "source": [
    "from qiskit.quantum_info import Kraus, SuperOp\n",
    "from qiskit.providers.aer import QasmSimulator\n",
    "from qiskit.providers.aer.noise import NoiseModel\n",
    "from qiskit.providers.aer.noise import QuantumError, ReadoutError\n",
    "from qiskit.providers.aer.noise import pauli_error\n",
    "from qiskit.providers.aer.noise import depolarizing_error\n",
    "from qiskit.providers.aer.noise import thermal_relaxation_error\n",
    "from qiskit.providers.models import BackendProperties\n",
    "from qiskit.providers.aer import noise\n",
    "\n",
    "from qiskit.tools.monitor import job_monitor\n",
    "from qiskit.algorithms.optimizers import SPSA, COBYLA\n",
    "from qiskit import IBMQ\n",
    "from qiskit.utils import QuantumInstance"
   ]
  },
  {
   "cell_type": "code",
   "execution_count": null,
   "id": "2065da3b",
   "metadata": {},
   "outputs": [],
   "source": [
    "IBMQ.load_account()\n",
    "provider = IBMQ.get_provider(hub='ibm-q', group='open', project='main')"
   ]
  },
  {
   "cell_type": "code",
   "execution_count": null,
   "id": "68335d5b",
   "metadata": {},
   "outputs": [],
   "source": [
    "provider.backends()"
   ]
  },
  {
   "cell_type": "code",
   "execution_count": null,
   "id": "5b20700a",
   "metadata": {},
   "outputs": [],
   "source": [
    "nShots = 8192\n",
    "J = -1\n",
    "b = np.linspace(0,4,10) # add points\n",
    "optimizer = COBYLA(maxiter=50, tol=0.001, rhobeg=1.0)\n",
    "#optimizer = SPSA(maxiter=50)\n",
    "###############################\n",
    "\n",
    "HW = 'ibmq_manila'\n",
    "BK = \"hardware\" # \"noiseless\", \"hardware\"\n",
    "\n",
    "if BK == \"noiseless\":\n",
    "    \n",
    "    backend = Aer.get_backend(\"qasm_simulator\")\n",
    "    quantum_instance = QuantumInstance(backend,\n",
    "                                       shots=nShots)\n",
    "    \n",
    "if BK == \"noisy\":\n",
    "    \n",
    "    device = IBMQ.get_provider().get_backend(HW)\n",
    "    coupling_map = device.configuration().coupling_map\n",
    "    prop = device.properties()\n",
    "    \n",
    "    noise_model = noise.device.basic_device_noise_model(prop)\n",
    "    basis_gates = noise_model.basis_gates\n",
    "\n",
    "    backend = Aer.get_backend('qasm_simulator')\n",
    "    quantum_instance = QuantumInstance(backend,\n",
    "                                       shots=nShots,\n",
    "                                       noise_model=noise_model,\n",
    "                                       coupling_map=coupling_map)\n",
    "    \n",
    "if BK == \"hardware\":\n",
    "    \n",
    "    device = provider.get_backend(HW)\n",
    "    prop = device.properties()\n",
    "    \n",
    "    quantum_instance = QuantumInstance(device,\n",
    "                                       shots=nShots)"
   ]
  },
  {
   "cell_type": "markdown",
   "id": "9161b5ed",
   "metadata": {},
   "source": [
    "### Classical energy levels calculation"
   ]
  },
  {
   "cell_type": "code",
   "execution_count": null,
   "id": "f78ebf4e",
   "metadata": {},
   "outputs": [],
   "source": [
    "import numpy as np\n",
    "from numpy import linalg\n",
    "from qiskit.quantum_info.operators import Operator, Pauli\n",
    "## see #https://qiskit.org/documentation/tutorials/circuits_advanced/02_operators_overview.html\n",
    "\n",
    "X = Operator(Pauli('X'))\n",
    "Z = Operator(Pauli('Z'))\n",
    "Y = Operator(Pauli('Y'))\n",
    "Id = Operator(Pauli('I'))\n",
    "\n",
    "E_l = []\n",
    "P_l = []\n",
    "energy_levels = []\n",
    "\n",
    "for k in range(len(b)):\n",
    "    H = (J)*Z.tensor(Z)+\\\n",
    "        (b[k])*Id.tensor(X)+\\\n",
    "        (b[k])*X.tensor(Id)\n",
    "\n",
    "    # Extract eig\n",
    "    E_l,P_l = linalg.eig(H.data)\n",
    "\n",
    "    Es = np.sort(E_l)\n",
    "\n",
    "    energy_levels.append(np.real(Es))"
   ]
  },
  {
   "cell_type": "markdown",
   "id": "27588abc",
   "metadata": {},
   "source": [
    "### Exercise: Quantum ground state calculation"
   ]
  },
  {
   "cell_type": "code",
   "execution_count": null,
   "id": "9e39dd18",
   "metadata": {},
   "outputs": [],
   "source": [
    "from qiskit import Aer\n",
    "from qiskit.opflow import X, Z, I\n",
    "from qiskit.utils import QuantumInstance, algorithm_globals\n",
    "from qiskit.algorithms import VQE\n",
    "from qiskit.algorithms.optimizers import SLSQP\n",
    "from qiskit.circuit.library import TwoLocal\n"
   ]
  },
  {
   "cell_type": "code",
   "execution_count": null,
   "id": "400bf30f",
   "metadata": {},
   "outputs": [],
   "source": [
    "energy = []\n",
    "\n",
    "##\n",
    "##\n",
    "##"
   ]
  },
  {
   "cell_type": "code",
   "execution_count": null,
   "id": "9a43959a",
   "metadata": {},
   "outputs": [],
   "source": [
    "fig, ax = plt.subplots()\n",
    "#plt.xticks(b)\n",
    "\n",
    "ax.scatter(b, energy, marker='o')\n",
    "ax.plot(b, energy_levels, color=\"#c2c2c2\", linewidth=0.5)\n",
    "\n",
    "ax.set(xlabel='B field', ylabel='Energy', title='')\n",
    "\n",
    "#ax.grid()\n",
    "plt.show()\n",
    "\n",
    "## ADDITIONAL DETAILS: https://github.com/Qiskit/qiskit-tutorials/blob/master/tutorials/algorithms/03_vqe_simulation_with_noise.ipynb"
   ]
  },
  {
   "cell_type": "markdown",
   "id": "870f8643",
   "metadata": {},
   "source": [
    "##  Digital Quantum Simulations of Time Evolution - Simulating the Heisenberg Chain\n",
    "\n",
    "\n",
    "<p style='text-align: justify;'> In this section, we will use qiskit to program and run the digital quantum simulation of spin Hamiltonians. We will see at work many fundamental concepts, from the well known Trotter digitalization procedure to useful gate decompositions, and we will operatively test the capabilities of a quantum computer in solving the time evolution of a quantum system of interest.</p>\n",
    "\n",
    "<p style='text-align: justify;'> In addition to qiskit, we will use some other well known python tools to do linear algebra calculations and to generate plots. All the required modules are imported below, together with the definition of some standard operators.</p>"
   ]
  },
  {
   "cell_type": "markdown",
   "id": "75b5cdb3",
   "metadata": {},
   "source": [
    "We will use the $XXX$ Heisenberg Hamiltonian $H_{\\text{Heis}}$ as defined below\n",
    "\n",
    "$$\n",
    "\\begin{equation}\n",
    "H_{\\text{Heis}} = \\sum_{\\langle ij \\rangle}^{N} J \\left(\\sigma_x^{(i)}\\sigma_x^{(j)} + \\sigma_y^{(i)}\\sigma_y^{(j)} + \\sigma_z^{(i)}\\sigma_z^{(j)}\\right).\n",
    "\\end{equation}\n",
    "$$\n",
    "\n",
    "$N$ is the number of spin-1/2 particles in model. The operators $\\sigma_x$, $\\sigma_y$, and $\\sigma_z$ are the usual Pauli operators where the $i$ and $j$ superscripts label which qubit they act on. For example, $\\sigma_x^{(1)}$ would be the $\\sigma_x$ operator acting on only qubit 1. This version of the general Heisenberg spin model is called $XXX$ because the same $J$ value multiplies each pair of Pauli operators. The sum notation $\\langle ij \\rangle$ means the sum is over nearest neighbors (only qubits next to each other interact), and $J$ is the interaction strength, which we will set $J=1$."
   ]
  },
  {
   "cell_type": "code",
   "execution_count": null,
   "id": "e77d16e1",
   "metadata": {},
   "outputs": [],
   "source": [
    "import numpy as np\n",
    "import matplotlib.pyplot as plt\n",
    "\n",
    "from qiskit.opflow.state_fns    import CircuitStateFn\n",
    "from qiskit.opflow              import PauliSumOp\n",
    "from qiskit.quantum_info        import SparsePauliOp"
   ]
  },
  {
   "cell_type": "markdown",
   "id": "e2c75c28",
   "metadata": {},
   "source": [
    "### Classical simulation of the Heisenberg chain\n",
    "\n",
    "We can use Qiskit to have a classical simulation of the Heisenberg chain that we will use as a benchmark for the quantum computations."
   ]
  },
  {
   "cell_type": "code",
   "execution_count": null,
   "id": "06756586",
   "metadata": {},
   "outputs": [],
   "source": [
    "# Returns the matrix representation of the XXX Heisenberg model\n",
    "def H_heis(n_spins):\n",
    "    \n",
    "    # using SparsePauliOp from Terra 0.20 is very compact\n",
    "    XXs = SparsePauliOp.from_sparse_list([[\"XX\", [i,i+1], 1] for i in range(n_spins-1)], n_spins)\n",
    "    YYs = SparsePauliOp.from_sparse_list([[\"YY\", [i,i+1], 1] for i in range(n_spins-1)], n_spins)\n",
    "    ZZs = SparsePauliOp.from_sparse_list([[\"ZZ\", [i,i+1], 1] for i in range(n_spins-1)], n_spins)\n",
    "    \n",
    "    # Sum interactions\n",
    "    H = XXs + YYs + ZZs\n",
    "    \n",
    "    # Return Hamiltonian\n",
    "    return H"
   ]
  },
  {
   "cell_type": "code",
   "execution_count": null,
   "id": "b988b377",
   "metadata": {},
   "outputs": [],
   "source": [
    "def U_heis(n_spins,t):\n",
    "    # Compute XXX Hamiltonian \n",
    "    # Need to create a PauliSumOp for future compatibility\n",
    "    H = PauliSumOp(H_heis(n_spins))\n",
    "    \n",
    "    # Return the exponential of -i multipled by time t multipled by the XXX Heisenberg Hamiltonian \n",
    "    return (t * H).exp_i()"
   ]
  },
  {
   "cell_type": "markdown",
   "id": "c4a3b7a4",
   "metadata": {},
   "source": [
    "Now that we have the time evolution operator we can apply it to an inital state of choice and study its time dependent properties. \n",
    "\n",
    "We consider a system of $N=3$ spins with the initial state $|\\psi_0 \\rangle = |110\\rangle$ and evolve it up until total time $T=\\pi$.\n",
    "\n",
    "We will measure the overlap with the initial state at every time $t$, namely $O(t) = |\\langle110|U(t)|110\\rangle|^2$."
   ]
  },
  {
   "cell_type": "code",
   "execution_count": null,
   "id": "00938251",
   "metadata": {},
   "outputs": [],
   "source": [
    "# Define array of time points\n",
    "ts      = np.linspace(0, np.pi, 100)\n",
    "n_spins = 3\n",
    "\n",
    "# Define initial state |110>\n",
    "initial_state = One^One^Zero\n",
    "\n",
    "# Compute probability of remaining in |110> state over the array of time points\n",
    " # ~initial_state gives the bra of the initial state (<110|)\n",
    " # @ is short hand for matrix multiplication\n",
    " # U_heis(t) is the unitary time evolution at time t\n",
    " # t needs to be wrapped with float(t) to avoid a bug\n",
    " # (...).eval() returns the inner product <110|U_heis(t)|110>\n",
    " #  np.abs(...)**2 is the modulus squared of the innner product which is the expectation value,\n",
    " # or probability, of remaining in |110>\n",
    "probs_110_exact = [np.abs((~initial_state @ U_heis(n_spins,float(t)) @ initial_state).eval())**2 for t in ts]\n",
    "\n",
    "# Plot evolution of |110>\n",
    "plt.plot(ts, probs_110_exact,linestyle=\"dashed\",color=\"blue\")\n",
    "plt.xlabel('time')\n",
    "plt.ylabel(r'probability of state $|110\\rangle$')\n",
    "plt.title(r'Evolution of state $|110\\rangle$ under $H_{Heis}$')\n",
    "plt.grid()\n",
    "plt.show()"
   ]
  },
  {
   "cell_type": "markdown",
   "id": "a7c08c22",
   "metadata": {},
   "source": [
    "### Quantum simulation of the Heisenberg chain\n",
    "### Part I: The 2 spins case\n",
    "\n",
    "For the 2 spins case the Hamiltonian has the following form:\n",
    "\n",
    "$$\n",
    "H_{\\text{Heis2}} = \\sigma_x^{(0)}\\sigma_x^{(1)} + \\sigma_y^{(0)}\\sigma_y^{(1)} + \\sigma_z^{(0)}\\sigma_z^{(1)}\n",
    "$$\n",
    "\n",
    "We notice that the Pauli operator pairs ($\\sigma_x^{(i)}\\sigma_x^{(j)}$, $\\sigma_y^{(i)}\\sigma_y^{(j)}$, and $\\sigma_z^{(i)}\\sigma_z^{(j)}$) commute. This means that the exponential decomposition using Trotterization of a 2 spins Hamiltonian ($H_{\\text{Heis2}}$) is exact and gets us closer to a gate implementation of $U_{\\text{Heis2}}(t)$\n",
    "\n",
    "$$\n",
    "\\begin{align}\n",
    "U_{\\text{Heis2}}(t) &= \\exp\\left(-itH_{\\text{Heis2}}\\right) \\\\\n",
    "U_{\\text{Heis2}}(t) &= \\exp\\left(-it\\sigma_x^{(0)}\\sigma_x^{(1)}\\right) \\exp\\left(-it\\sigma_y^{(0)}\\sigma_y^{(1)}\\right) \\exp\\left(-it\\sigma_z^{(0)}\\sigma_z^{(1)}\\right) \n",
    "\\end{align}\n",
    "$$\n",
    "\n",
    "\n",
    "\n",
    " Qiskit already includes these operations, but we will see how we can construct the three operations using only  universal set of operations containing single qubit rotations and the $\\mathrm{CNOT}$ gate, since this is what is natively implemented on the IBMQ devices, but other choices are of course equally valid from a mathematical perspective. The simplest transformation to implement is perhaps the so called $\\mathrm{ZZ}(\\delta)$:\n",
    "$$\n",
    "\\mathrm{ZZ}(\\delta) = e^{-i\\delta \\sigma_z^{(1)}\\sigma_z^{(2)}}\n",
    "$$\n",
    "Up to a global phase factor, which can be disregarded when working with quantum states, it corresponds to a combination of two $\\mathrm{CNOT}$ gates and a single phase gate (which is called $\\mathrm{U}(\\lambda)$ in qiskit)\n",
    "$$\n",
    "\\mathrm{ZZ}(\\delta) \\rightarrow \\mathrm{CNOT}(q_c,q_t) \\left(\\mathcal{I}_{q_c}\\otimes\\mathrm{U}(-2\\delta)_{q_t}\\right) \\mathrm{CNOT}(q_c,q_t)\n",
    "$$\n",
    "\n"
   ]
  },
  {
   "cell_type": "code",
   "execution_count": null,
   "id": "b817f4c5",
   "metadata": {},
   "outputs": [],
   "source": [
    "# First, create a classical simulation to compare\n",
    "\n",
    "# Define array of time points\n",
    "ts      = np.linspace(0, np.pi, 100)\n",
    "n_spins = 2\n",
    "\n",
    "# Define initial state |10>\n",
    "initial_state = Zero^One\n",
    "probs_10_exact = [np.abs((~initial_state @ U_heis(n_spins,float(t)) @ initial_state).eval())**2 for t in ts]\n",
    "\n",
    "# Plot evolution of |10>\n",
    "plt.plot(ts, probs_10_exact,linestyle=\"dashed\",color=\"black\")\n",
    "plt.xlabel('time')\n",
    "plt.ylabel(r'probability of state $|10\\rangle$')\n",
    "plt.title(r'Evolution of state $|10\\rangle$ under $H_{Heis}$')\n",
    "plt.grid()\n",
    "plt.show()"
   ]
  },
  {
   "cell_type": "markdown",
   "id": "3c7cf93f",
   "metadata": {},
   "source": [
    "We will start from the $R_{ZZ}(\\theta)$ rotation gate.\n",
    "\n",
    "Once this gate is decomposed, we can act on the two qubits with $R_{Y}$ and $R_{X}$ to construct $R_{XX}$ and $R_{YY}$, respectively.\n",
    "\n",
    "The $R_{ZZ}(\\theta)$ is a two qubit gate with the following structure:\n",
    "\n",
    "$$\n",
    "R_{ZZ}(\\theta) = \\cos(\\theta) I \\otimes I - i\\sin(\\theta) Z \\otimes Z = \n",
    "\\begin{bmatrix}\n",
    "\\cos(\\theta)- i\\sin(\\theta) & 0 & 0 & 0 \\\\\n",
    "0 & \\cos(\\theta)+ i\\sin(\\theta) & 0 & 0 \\\\\n",
    "0 & 0 & \\cos(\\theta)+ i\\sin(\\theta) & 0 \\\\\n",
    "0 & 0 & 0 & \\cos(\\theta)- i\\sin(\\theta)\n",
    "\\end{bmatrix}\n",
    "$$\n",
    "\n",
    "Since there are only diagonal elements, we can start from a single qubit rotation $R_{Z} =\\cos(\\theta) I - i\\sin(\\theta) Z$, which is already diagonal\n",
    "\n",
    "$$\n",
    "I \\otimes R_{Z}(\\theta) = \n",
    "\\begin{bmatrix}\n",
    "\\cos(\\theta)- i\\sin(\\theta) & 0 & 0 & 0 \\\\\n",
    "0 & \\cos(\\theta)+ i\\sin(\\theta) & 0 & 0 \\\\\n",
    "0 & 0 & \\cos(\\theta)- i\\sin(\\theta) & 0 \\\\\n",
    "0 & 0 & 0 & \\cos(\\theta)+ i\\sin(\\theta)\n",
    "\\end{bmatrix}\n",
    "$$\n",
    "\n",
    "and then invert the third and the fourth element of the diagonal.\n",
    "We can switch 3rd and 4th rows by multiplying this matrix by a CNOT and then switch 3rd and 4th columns by mmultiplying the result by another $CNOT$ (see the $CNOT$ definition in the lecture note).\n",
    "\n",
    "The final result is therefore $CNOT_{12}*I \\otimes R_{Z}(\\theta)*CNOT_{12}$."
   ]
  },
  {
   "cell_type": "code",
   "execution_count": null,
   "id": "53eaae26",
   "metadata": {},
   "outputs": [],
   "source": [
    "def R_zz(t):\n",
    "    \n",
    "    '''\n",
    "    Circuit for R_zz(t), as derived\n",
    "    \n",
    "    Args:\n",
    "        - t: parameter of the rotation\n",
    "        \n",
    "    Returns:\n",
    "        A QuantumCircuit implementing the R_zz(t) rotation with name ZZ\n",
    "    '''\n",
    "    ZZ_qr = QuantumRegister(2)\n",
    "    ZZ_qc = QuantumCircuit(ZZ_qr, name='ZZ')\n",
    "\n",
    "    ZZ_qc.cnot(0,1)\n",
    "    ZZ_qc.rz(2 * t, 1) #<- Rotations are defined as R(\\theta) = e^{-iP \\theta/2} in Qiskit\n",
    "    ZZ_qc.cnot(0,1)\n",
    "\n",
    "    return ZZ_qc"
   ]
  },
  {
   "cell_type": "code",
   "execution_count": null,
   "id": "bc6423d5",
   "metadata": {},
   "outputs": [],
   "source": [
    "R_zz(1).draw(\"mpl\")"
   ]
  },
  {
   "cell_type": "markdown",
   "id": "592726cc",
   "metadata": {},
   "source": [
    "Now we can apply a basis change using \n",
    "$$\n",
    "R_{Y}(\\theta) = \\exp\\left(-i \\frac{\\theta}{2} Y\\right) =\n",
    "            \\begin{pmatrix}\n",
    "                \\cos{\\frac{\\theta}{2}} & -\\sin{\\frac{\\theta}{2}} \\\\\n",
    "                \\sin{\\frac{\\theta}{2}} & \\cos{\\frac{\\theta}{2}}\n",
    "            \\end{pmatrix}\n",
    "$$\n",
    "\n",
    "apply $R_{ZZ}$ and then change the basis back to the original in order to apply the $R_{XX}$.\n",
    "\n",
    "In particular\n",
    "\n",
    "$$\n",
    "R_{Y}(\\pi/2) = \\frac{1}{\\sqrt{2}}\n",
    "            \\begin{pmatrix}\n",
    "                1 & -1 \\\\\n",
    "                1 & 1\n",
    "            \\end{pmatrix}\n",
    "$$\n",
    "\n",
    "and $R_{Y}(\\pi/2) Z R_{Y}(-\\pi/2) = X$, $R_{Y}(\\pi/2) R_{Y}(-\\pi/2) = I$, therefore"
   ]
  },
  {
   "cell_type": "code",
   "execution_count": null,
   "id": "c39c9bfa",
   "metadata": {},
   "outputs": [],
   "source": [
    "def R_xx(t):\n",
    "    \n",
    "    '''\n",
    "    Circuit for R_xx(t)\n",
    "    \n",
    "    Args:\n",
    "        - t: parameter of the rotation\n",
    "        \n",
    "    Returns:\n",
    "        A QuantumCircuit implementing the R_xx(t) rotation with name XX\n",
    "    '''\n",
    "\n",
    "    XX_qr = QuantumRegister(2)\n",
    "    XX_qc = QuantumCircuit(XX_qr, name='XX')\n",
    "\n",
    "    XX_qc.ry(np.pi/2,[0,1])\n",
    "    XX_qc.cnot(0,1)\n",
    "    XX_qc.rz(2 * t, 1)\n",
    "    XX_qc.cnot(0,1)\n",
    "    XX_qc.ry(-np.pi/2,[0,1])\n",
    "\n",
    "    return XX_qc\n",
    "\n",
    "\n"
   ]
  },
  {
   "cell_type": "code",
   "execution_count": null,
   "id": "35855206",
   "metadata": {},
   "outputs": [],
   "source": [
    "R_xx(1).draw(\"mpl\")"
   ]
  },
  {
   "cell_type": "markdown",
   "id": "1aaf1266",
   "metadata": {},
   "source": [
    "And a similar procedure for $R_{YY}$ with\n",
    "\n",
    "$$\n",
    "R_{X}(\\theta) = \\exp\\left(-i \\frac{\\theta}{2} X\\right) =\n",
    "            \\begin{pmatrix}\n",
    "                \\cos{\\frac{\\theta}{2}}   & -i\\sin{\\frac{\\theta}{2}} \\\\\n",
    "                -i\\sin{\\frac{\\theta}{2}} & \\cos{\\frac{\\theta}{2}}\n",
    "            \\end{pmatrix}\n",
    "$$"
   ]
  },
  {
   "cell_type": "code",
   "execution_count": null,
   "id": "373d4309",
   "metadata": {},
   "outputs": [],
   "source": [
    "def R_yy(t):\n",
    "    \n",
    "    '''\n",
    "    Circuit for R_yy(t)\n",
    "    \n",
    "    Args:\n",
    "        - t: parameter of the rotation\n",
    "        \n",
    "    Returns:\n",
    "        A QuantumCircuit implementing the R_yy(t) rotation with name YY\n",
    "    '''\n",
    "\n",
    "    YY_qr = QuantumRegister(2)\n",
    "    YY_qc = QuantumCircuit(YY_qr, name='YY')\n",
    "    \n",
    "    YY_qc.rx(np.pi/2,[0,1])\n",
    "    YY_qc.cnot(0,1)\n",
    "    YY_qc.rz(2 * t, 1)\n",
    "    YY_qc.cnot(0,1)\n",
    "    YY_qc.rx(-np.pi/2,[0,1])\n",
    "\n",
    "    return YY_qc"
   ]
  },
  {
   "cell_type": "markdown",
   "id": "0037d55e",
   "metadata": {},
   "source": [
    "The overall sequence required to simulate the Heisenberg dimer is therefore\n",
    "$$\n",
    "e^{-i\\mathrm{H}t} = \\mathrm{XX}(\\delta)\\mathrm{YY}(\\delta)\\mathrm{ZZ}(\\delta)\n",
    "$$"
   ]
  },
  {
   "cell_type": "code",
   "execution_count": null,
   "id": "7507619f",
   "metadata": {},
   "outputs": [],
   "source": [
    "## Define where you want to run the circuit\n",
    "backend     = Aer.get_backend(\"statevector_simulator\")             # Exact\n",
    "#backend     = QasmSimulator(shots=8000)                           # Shots\n",
    "#backend     = QasmSimulator(noise_model=noise_model, shots= 8000) # Noisy\n",
    "\n",
    "expectation = PauliExpectation() \n",
    "sampler     = CircuitSampler(backend)\n",
    "\n",
    "## We want to measure |10><10| and |0><0|= (1/2)*(I+Z), |1><1|= (1/2)*(I-Z)\n",
    "prj         = StateFn((1/4)*((I-Z)^(I+Z)),is_measurement=True)\n",
    "probs_10    = []\n",
    "\n",
    "for sim_t in ts:\n",
    "    \n",
    "    # Prepare \n",
    "    qc = QuantumCircuit(2)\n",
    "    qc.x(1)\n",
    "    qc = qc.compose(R_xx(sim_t))\n",
    "    qc = qc.compose(R_yy(sim_t))\n",
    "    qc = qc.compose(R_zz(sim_t))\n",
    "    \n",
    "    # Measure\n",
    "    trott_expect  = expectation.convert(prj @ StateFn(qc))\n",
    "    trott_sample  = sampler.convert(trott_expect)\n",
    "    probs_10.append(trott_sample.eval().real)"
   ]
  },
  {
   "cell_type": "code",
   "execution_count": null,
   "id": "8f254fd7",
   "metadata": {},
   "outputs": [],
   "source": [
    "# Now plot the comparison\n",
    "plt.plot(ts, probs_10_exact,linestyle=\"dashed\",color=\"black\",label=\"Exact\")\n",
    "plt.plot(ts, probs_10,color=\"C0\",label=\"Trotter\",linestyle=\"\",marker=\".\")\n",
    "plt.xlabel('time')\n",
    "plt.ylabel(r'probability of state $|10\\rangle$')\n",
    "\n",
    "plt.legend()\n",
    "plt.grid()\n",
    "plt.show()"
   ]
  },
  {
   "cell_type": "code",
   "execution_count": null,
   "id": "57c2d93a",
   "metadata": {},
   "outputs": [],
   "source": [
    "### Alternatively\n",
    "from qiskit.quantum_info.operators import Operator, Pauli\n",
    "\n",
    "X = Operator(Pauli('X'))\n",
    "Z = Operator(Pauli('Z'))\n",
    "Y = Operator(Pauli('Y'))\n",
    "Id = Operator(Pauli('I'))\n",
    "# Add to a circuit\n",
    "# Add to a circuit\n",
    "zz_example_new = QuantumCircuit(2, 2)\n",
    "zz_example_new.append(Pauli('ZZ'), [0, 1])\n",
    "zz_example_new.draw(output='mpl')"
   ]
  },
  {
   "cell_type": "markdown",
   "id": "3d67da28",
   "metadata": {},
   "source": [
    "### Computing Magnetization"
   ]
  },
  {
   "cell_type": "markdown",
   "id": "469b4845",
   "metadata": {},
   "source": [
    "By adding at the end of the circuit a measurement in the computational basis, we get an estimate of the probabilities $p_0^{(i)},p_1^{(i)}$ of finding each qubit in one of the two eigenstates of $\\sigma_z$ (i.e. $\\left|0\\right\\rangle$ and $\\left|1\\right\\rangle$) and therefore with an estimate of the average spin magnetization along the $z$ direction\n",
    "$$\n",
    "\\left\\langle\\hat{s}^{(i)}_z(t)\\right\\rangle = \\frac{1}{2}\\left\\langle\\psi (t)\\right|\\sigma^{(i)}_z(t)\\left|\\psi(t)\\right\\rangle = \\frac{1}{2}\\left(+1 \\cdot p_0^{(i)} -1\\cdot p_1^{(i)}\\right)\n",
    "$$\n",
    "where $\\left|\\psi(t)\\right\\rangle = U(t)\\left|\\psi (0)\\right\\rangle$ is the time evolved state of the two qubits. In order to obtain a non-trivial time evolution for $\\left\\langle\\hat{s}^{(i)}_z(t)\\right\\rangle$, we will start from the initial state\n",
    "$$\n",
    "\\left|\\psi (0) \\right\\rangle = \\left|1\\right\\rangle \\otimes \\left|0\\right\\rangle\n",
    "$$\n",
    "You can find below the python code that compares the classical simulation of the Heisenberg dimer model with standard linear algebra techniques and the corresponding digital quantum simulation. Take a moment to understand the code, to play around with the parameters (including the number of repetitions of the quantum sequence) and to appreciate the agreement between the two techniques.  \n"
   ]
  },
  {
   "cell_type": "code",
   "execution_count": null,
   "id": "ddfe5b02",
   "metadata": {},
   "outputs": [],
   "source": [
    "import math\n",
    "from numpy import linalg\n",
    "from scipy.linalg import expm\n",
    "\n",
    "J = 1\n",
    "c_times = np.linspace(0,0.5*math.pi/abs(J),1000)\n",
    "q_times = np.linspace(0,0.5*math.pi/abs(J),10)\n",
    "\n",
    "### Classical simulation of the Heisenberg dimer model\n",
    "\n",
    "##preparation of physical quantity - Single qubit operators\n",
    "\n",
    "sx = np.array([[0.0, 1.0],[1.0, 0.0]])\n",
    "sy = np.array([[0.0, -1.0*1j],[1.0*1j, 0.0]])\n",
    "sz = np.array([[1.0, 0.0],[0.0, -1.0]])\n",
    "idt = np.array([[1.0, 0.0],[0.0, 1.0]])\n",
    "\n",
    "### initial state definition and execution\n",
    "\n",
    "psi0 = np.kron( np.array([0,1]), np.array([1,0]) )\n",
    "H = J * ( np.kron(sx,sx) + np.kron(sy,sy) + np.kron(sz,sz) )\n",
    "\n",
    "sz1_t = np.zeros(len(c_times))\n",
    "sz2_t = np.zeros(len(c_times))\n",
    "\n",
    "sz1 = np.kron(sz,idt)\n",
    "sz2 = np.kron(idt,sz)\n",
    "\n",
    "for i in range(len(c_times)):\n",
    "    \n",
    "    t = c_times[i]\n",
    "    psi_t = expm(-1j*H*t).dot(psi0)\n",
    "    sz1_t[i] = np.real(psi_t.conjugate().transpose().dot(sz1.dot(psi_t)))\n",
    "    sz2_t[i] = np.real(psi_t.conjugate().transpose().dot(sz2.dot(psi_t)))"
   ]
  },
  {
   "cell_type": "code",
   "execution_count": null,
   "id": "d9b3da4d",
   "metadata": {},
   "outputs": [],
   "source": [
    "### Digital quantum simulation of the Heisenberg dimer model using qiskit\n",
    "shots=8000\n",
    "\n",
    "backend= QasmSimulator(shots=shots)  \n",
    "sz1q_t = np.zeros(len(q_times))\n",
    "sz2q_t = np.zeros(len(q_times))\n",
    "\n",
    "\n",
    "# Run the quantum algorithm\n",
    "\n",
    "\n",
    "\n",
    "for k, sim_t in enumerate(q_times):\n",
    "   \n",
    "    # Prepare \n",
    "    qc = QuantumCircuit(2)\n",
    "    qc.x(1)\n",
    "    qc = qc.compose(R_xx(sim_t))\n",
    "    qc = qc.compose(R_yy(sim_t))\n",
    "    qc = qc.compose(R_zz(sim_t))\n",
    "    \n",
    "    \n",
    "    # measure\n",
    "    qc.measure_all()\n",
    "    \n",
    "    # Run the quantum algorithm\n",
    "    \n",
    "    job = execute(qc, backend)\n",
    "    result = job.result()\n",
    "    counts = result.get_counts()\n",
    "    \n",
    "    \n",
    "    # Post processing of outcomes to get sz expectation values\n",
    "\n",
    "    sz1q = 0\n",
    "    sz2q = 0\n",
    "    for key,value in counts.items():\n",
    "        if key == '00':\n",
    "            sz1q += value\n",
    "            sz2q += value\n",
    "        elif key == '01':\n",
    "            sz1q -= value\n",
    "            sz2q += value\n",
    "        elif key == '10':\n",
    "            sz1q += value\n",
    "            sz2q -= value\n",
    "        elif key == '11':\n",
    "            sz1q -= value\n",
    "            sz2q -= value\n",
    "\n",
    "    sz1q_t[k] = sz1q/shots\n",
    "    sz2q_t[k] = sz2q/shots"
   ]
  },
  {
   "cell_type": "code",
   "execution_count": null,
   "id": "9ae0720e",
   "metadata": {},
   "outputs": [],
   "source": [
    "plt.plot(abs(J)*c_times,0.5*sz1_t,'b--')\n",
    "plt.plot(abs(J)*c_times,0.5*sz2_t,'c')\n",
    "plt.plot(abs(J)*q_times,0.5*sz1q_t,'rd')\n",
    "plt.plot(abs(J)*q_times,0.5*sz2q_t,'ko')\n",
    "plt.legend(['sz1','sz2','sz1q','sz2q'])\n",
    "plt.xlabel(r'$\\delta = |J|t$')\n",
    "plt.show()"
   ]
  },
  {
   "cell_type": "markdown",
   "id": "bea2d9f5",
   "metadata": {},
   "source": [
    "Some reference to move to more difficult scenario with Trotterization: https://qiskit.org/documentation/stubs/qiskit.opflow.evolutions.html\n",
    "    "
   ]
  },
  {
   "cell_type": "markdown",
   "id": "71589319",
   "metadata": {},
   "source": [
    "## Extra: what happens when $N>2$ \n",
    "\n",
    "Now we will study the more general case. \n",
    "\n",
    "Actually, we just need to add a spin to see the difference: the exponential $U_{\\text{Heis3}}(t)$ cannot be split into a product of simpler exponentials. \n",
    "However, we can approximate $U_{\\text{Heis3}}(t)$ as a product of simpler exponentials through Trotterization. \n",
    "Consider again the 2 spin case, within the larger 3 spin system. \n",
    "As we have seen the Hamiltonian on spins $i$ and $j$ ($i,j \\in \\{0,1,2\\}$) is $H^{(i,j)}_{\\text{Heis2}} = \\sigma_x^{(i)}\\sigma_x^{(j)} + \\sigma_y^{(i)}\\sigma_y^{(j)} + \\sigma_z^{(i)}\\sigma_z^{(j)}$. \n",
    "Rewritting $U_{\\text{Heis3}}(t)$ in terms of the two possible subsystems within the total $N=3$ system you will simulate,\n",
    "\n",
    "$$\n",
    "U_{\\text{Heis3}}(t) = \\exp\\left[-i t \\left(H^{(0,1)}_{\\text{Heis2}} + H^{(1,2)}_{\\text{Heis2}} \\right)\\right].\n",
    "$$\n",
    "\n",
    "$H^{(0,1)}_{\\text{Heis2}}$ and $H^{(1,2)}_{\\text{Heis2}}$ do not commute, so $U_{\\text{Heis3}}(t) \\neq \\exp\\left(-i t H^{(0,1)}_{\\text{Heis2}}\\right) \\exp\\left(-i t H^{(1,2)}_{\\text{Heis2}} \\right)$.\n",
    "But, this product decomposition can be approximated with Trotterization which says $U_{\\text{Heis3}}(t)$ is approximately a short evolution of $H^{(0,1)}_{\\text{Heis2}}$ (time = $t/n$) and followed by a short evolution of $H^{(1,2)}_{\\text{Heis2}}$ (time = $t/n$) repeated $n$ times\n",
    "\n",
    "$$\n",
    "\\begin{align}\n",
    "U_{\\text{Heis3}}(t) &= \\exp\\left[-i t \\left(H^{(0,1)}_{\\text{Heis2}} + H^{(1,2)}_{\\text{Heis2}} \\right)\\right] \\\\\n",
    "U_{\\text{Heis3}}(t) &\\approx \\left[\\exp\\left(\\dfrac{-it}{n}H^{(0,1)}_{\\text{Heis2}}\\right) \\exp\\left(\\dfrac{-it}{n}H^{(1,2)}_{\\text{Heis2}} \\right)\\right]^n.\n",
    "\\end{align}\n",
    "$$\n",
    "\n",
    "$n$ is the number of Trotter steps, and as $n$ increases, the approximation becomes more accurate. (Note that how a untiary is split up into subsystems for Trotterization is not necessarily unique.) "
   ]
  },
  {
   "cell_type": "code",
   "execution_count": null,
   "id": "d03e176a",
   "metadata": {},
   "outputs": [],
   "source": [
    "## Here we introduce a general function for Heisenberg chain Trotter evolution\n",
    "## The circuit will not contain the initialisation\n",
    "\n",
    "def Heisenberg_Trotter(num_spins,trotter_steps,t):\n",
    "    \n",
    "    '''\n",
    "    Circuit implementing Trotterization of the time evolutiom operator for the XXX Heisenberg\n",
    "    model on num_spins.\n",
    "    \n",
    "    Naively, every  Trotter step requires 6*(num_spins-1) CNOTs\n",
    "    \n",
    "    Args:\n",
    "        - num_spins: int, number of qubits of the system\n",
    "        - trotter_steps: the number of trotter steps n to implement\n",
    "        - t: the simulation time we are targeting\n",
    "        \n",
    "    Returns:\n",
    "        A QuantumCircuit implementing the Trotterization of the time evolutiom operator for the XXX Heisenberg\n",
    "        model\n",
    "    '''\n",
    "    \n",
    "    # Given a target time and a number of Trotter steps, every step will evolve the \n",
    "    # circuit for a time step dt = target_time/trotter_steps\n",
    "    dt = t/trotter_steps\n",
    "\n",
    "    # Initialize quantum circuit for n_spins\n",
    "    qr = QuantumRegister(num_spins)\n",
    "    # A QuantumCircuit can also be initialised without a classical register (in this case classical bits == qubits)\n",
    "    qc = QuantumCircuit(qr) \n",
    "    \n",
    "    for _ in range(trotter_steps):\n",
    "        for i in range(0, num_spins - 1):\n",
    "            qc.rxx(2*dt,i,i+1)\n",
    "            qc.ryy(2*dt,i,i+1)\n",
    "            qc.rzz(2*dt,i,i+1)\n",
    "        \n",
    "        # To separate the different Trotter steps\n",
    "        qc.barrier()\n",
    "\n",
    "\n",
    "    return qc"
   ]
  },
  {
   "cell_type": "markdown",
   "id": "3dca0e79",
   "metadata": {},
   "source": [
    "Now we will use the function created to compare the Trotterization with the exact evolution."
   ]
  },
  {
   "cell_type": "code",
   "execution_count": null,
   "id": "5eea37db",
   "metadata": {},
   "outputs": [],
   "source": [
    "# Simulate the system with a different number of Trotter steps and compare with the matrix exponentiation\n",
    "# In this case, we will consider 4, 8 and 12 Trotter steps\n",
    "# Import Pauli operators (X, Y, Z) and the identity\n",
    "from qiskit.opflow import I, X, Y, Z, One, Zero\n",
    "\n",
    "probs_110_trott = {4:[],8:[],12:[]}\n",
    "\n",
    "## Define where you want to run the circuit\n",
    "backend     = Aer.get_backend(\"statevector_simulator\")             # Exact\n",
    "#backend     = QasmSimulator(shots=8000)                           # Shots\n",
    "#backend     = QasmSimulator(noise_model=noise_model, shots= 8000) # Noisy\n",
    "\n",
    "expectation = PauliExpectation() \n",
    "sampler     = CircuitSampler(backend)\n",
    "\n",
    "## We want to measure |110><110|\n",
    "prj = StateFn((1/8)*(I-Z)^(I-Z)^(I+Z),is_measurement=True)\n",
    "\n",
    "# We loop over different number of Trotter steps\n",
    "for n in probs_110_trott.keys():\n",
    "    for sim_t in ts:\n",
    "        # Initialize the circuit\n",
    "        trott_qr = QuantumRegister(3)\n",
    "        trott_qc = QuantumCircuit(trott_qr)\n",
    "        trott_qc.x([1,2])\n",
    "    \n",
    "        # Append the Trotterization\n",
    "        trott_steps = Heisenberg_Trotter(num_spins=3,trotter_steps=n,t=sim_t)\n",
    "        #trott_qc   = trott_qc.compose(trott_steps)\n",
    "        trott_qc.append(trott_steps, [trott_qr[0], trott_qr[1], trott_qr[2]])\n",
    "        \n",
    "        trott_expect  = expectation.convert(prj @ StateFn(trott_qc))\n",
    "        trott_sample  = sampler.convert(trott_expect)\n",
    "        probs_110_trott[n].append(trott_sample.eval().real)\n",
    "        \n",
    "    print(str(n)+\" steps completed\")"
   ]
  },
  {
   "cell_type": "code",
   "execution_count": null,
   "id": "496b381c",
   "metadata": {},
   "outputs": [],
   "source": [
    "# Now plot the comparison\n",
    "plt.plot(ts, probs_110_exact,linestyle=\"dashed\",color=\"black\",label=\"Exact\")\n",
    "for (i,n) in enumerate(probs_110_trott.keys()):\n",
    "    plt.plot(ts, probs_110_trott[n],color=\"C\"+str(i),label=str(n)+\" steps\")\n",
    "plt.xlabel('time')\n",
    "plt.ylabel(r'probability of state $|110\\rangle$')\n",
    "plt.title(r'Trotterization comparison')\n",
    "plt.legend()\n",
    "plt.grid()\n",
    "plt.show()"
   ]
  },
  {
   "cell_type": "markdown",
   "id": "356c28ff",
   "metadata": {},
   "source": [
    "As we can see from the plot , the dynamics gets closer and closer to the exact state evolution as we increase the number of Trotter steps. \n",
    "\n",
    "This come at the cost of increasing the number of gates in our quantum circuit."
   ]
  }
 ],
 "metadata": {
  "celltoolbar": "Slideshow",
  "kernelspec": {
   "display_name": "Python 3 (ipykernel)",
   "language": "python",
   "name": "python3"
  },
  "language_info": {
   "codemirror_mode": {
    "name": "ipython",
    "version": 3
   },
   "file_extension": ".py",
   "mimetype": "text/x-python",
   "name": "python",
   "nbconvert_exporter": "python",
   "pygments_lexer": "ipython3",
   "version": "3.9.13"
  }
 },
 "nbformat": 4,
 "nbformat_minor": 5
}
